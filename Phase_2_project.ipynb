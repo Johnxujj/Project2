{
 "cells": [
  {
   "cell_type": "markdown",
   "id": "c9d15e3a",
   "metadata": {},
   "source": [
    "# Real estate market analyze at King County with Regression modeling.\n",
    "Jiajie Xu, 07Nov21"
   ]
  },
  {
   "cell_type": "markdown",
   "id": "7e41850b",
   "metadata": {},
   "source": [
    "# Overview"
   ]
  },
  {
   "cell_type": "markdown",
   "id": "d69e6991",
   "metadata": {},
   "source": [
    "## Business Problem"
   ]
  },
  {
   "cell_type": "markdown",
   "id": "2cbdec38",
   "metadata": {},
   "source": [
    "Data analysis for King County's house sale record, using 2014-2015 house sales data from online. In order to invest new real estate, what features should future owner consider most? and what should owner don't care too much? Should owner buy a larger room than he/she actually needs?"
   ]
  },
  {
   "cell_type": "markdown",
   "id": "49d8efda",
   "metadata": {},
   "source": [
    "# Data"
   ]
  },
  {
   "cell_type": "markdown",
   "id": "96f42750",
   "metadata": {},
   "source": [
    "## Data Loading/ Understanding"
   ]
  },
  {
   "cell_type": "code",
   "execution_count": 1,
   "id": "054b56f1",
   "metadata": {},
   "outputs": [],
   "source": [
    "import pandas as pd\n",
    "import numpy as np\n",
    "import matplotlib.pyplot as plt\n",
    "import warnings\n",
    "warnings.filterwarnings('ignore')\n",
    "import copy\n",
    "import seaborn as sns\n",
    "# import statsmodels.api as sm\n",
    "# from statsmodels.formula.api import ols\n",
    "import statsmodels.api as sm\n",
    "import scipy.stats as stats\n",
    "from statsmodels.formula.api import ols\n",
    "from sklearn.linear_model import LinearRegression\n",
    "from sklearn.model_selection import train_test_split\n",
    "from sklearn.metrics import mean_squared_error\n",
    "from sklearn.model_selection import cross_val_score\n",
    "from sklearn import datasets, linear_model\n",
    "from statsmodels.stats.outliers_influence import variance_inflation_factor\n",
    "linreg = LinearRegression()\n",
    "from sklearn.model_selection import KFold\n",
    "from sklearn.metrics import accuracy_score\n",
    "from sklearn.metrics import mean_absolute_error\n",
    "from itertools import combinations\n",
    "import matplotlib.pyplot as plt\n",
    "from matplotlib.pyplot import hist\n",
    "from matplotlib import style\n",
    "style.use('ggplot')\n",
    "plt.ticklabel_format(style='plain')\n",
    "%matplotlib inline"
   ]
  },
  {
   "cell_type": "code",
   "execution_count": 2,
   "id": "a7d31182",
   "metadata": {
    "scrolled": true
   },
   "outputs": [
    {
     "name": "stdout",
     "output_type": "stream",
     "text": [
      " Volume in drive D is New Volume\n",
      " Volume Serial Number is C649-A6AD\n",
      "\n",
      " Directory of D:\\Flatiron\\Project2\\dsc-phase-2-project\n",
      "\n",
      "11/12/2021  06:16 PM    <DIR>          .\n",
      "10/05/2021  05:13 PM    <DIR>          ..\n",
      "10/05/2021  05:13 PM               152 .canvas\n",
      "10/05/2021  05:13 PM                70 .gitignore\n",
      "10/28/2021  12:34 PM    <DIR>          .ipynb_checkpoints\n",
      "10/05/2021  05:13 PM             1,846 CONTRIBUTING.md\n",
      "10/05/2021  07:17 PM    <DIR>          data\n",
      "10/05/2021  05:13 PM         2,930,391 halfway-there.gif\n",
      "10/05/2021  05:13 PM             1,354 LICENSE.md\n",
      "11/12/2021  06:16 PM           965,981 Phase_2_project.ipynb\n",
      "10/05/2021  05:13 PM             4,151 README.md\n",
      "               7 File(s)      3,903,945 bytes\n",
      "               4 Dir(s)  1,999,968,813,056 bytes free\n"
     ]
    }
   ],
   "source": [
    "ls"
   ]
  },
  {
   "cell_type": "code",
   "execution_count": 3,
   "id": "9c815eb9",
   "metadata": {},
   "outputs": [
    {
     "name": "stdout",
     "output_type": "stream",
     "text": [
      "D:\\Flatiron\\Project2\\dsc-phase-2-project\\data\n"
     ]
    }
   ],
   "source": [
    "cd data/"
   ]
  },
  {
   "cell_type": "code",
   "execution_count": 4,
   "id": "3ca5c691",
   "metadata": {
    "scrolled": true
   },
   "outputs": [],
   "source": [
    "df = pd.read_csv('kc_house_data.csv')"
   ]
  },
  {
   "cell_type": "code",
   "execution_count": 5,
   "id": "102bd0af",
   "metadata": {},
   "outputs": [
    {
     "data": {
      "text/html": [
       "<div>\n",
       "<style scoped>\n",
       "    .dataframe tbody tr th:only-of-type {\n",
       "        vertical-align: middle;\n",
       "    }\n",
       "\n",
       "    .dataframe tbody tr th {\n",
       "        vertical-align: top;\n",
       "    }\n",
       "\n",
       "    .dataframe thead th {\n",
       "        text-align: right;\n",
       "    }\n",
       "</style>\n",
       "<table border=\"1\" class=\"dataframe\">\n",
       "  <thead>\n",
       "    <tr style=\"text-align: right;\">\n",
       "      <th></th>\n",
       "      <th>id</th>\n",
       "      <th>date</th>\n",
       "      <th>price</th>\n",
       "      <th>bedrooms</th>\n",
       "      <th>bathrooms</th>\n",
       "      <th>sqft_living</th>\n",
       "      <th>sqft_lot</th>\n",
       "      <th>floors</th>\n",
       "      <th>waterfront</th>\n",
       "      <th>view</th>\n",
       "      <th>...</th>\n",
       "      <th>grade</th>\n",
       "      <th>sqft_above</th>\n",
       "      <th>sqft_basement</th>\n",
       "      <th>yr_built</th>\n",
       "      <th>yr_renovated</th>\n",
       "      <th>zipcode</th>\n",
       "      <th>lat</th>\n",
       "      <th>long</th>\n",
       "      <th>sqft_living15</th>\n",
       "      <th>sqft_lot15</th>\n",
       "    </tr>\n",
       "  </thead>\n",
       "  <tbody>\n",
       "    <tr>\n",
       "      <th>0</th>\n",
       "      <td>7129300520</td>\n",
       "      <td>10/13/2014</td>\n",
       "      <td>221900.0</td>\n",
       "      <td>3</td>\n",
       "      <td>1.00</td>\n",
       "      <td>1180</td>\n",
       "      <td>5650</td>\n",
       "      <td>1.0</td>\n",
       "      <td>NaN</td>\n",
       "      <td>0.0</td>\n",
       "      <td>...</td>\n",
       "      <td>7</td>\n",
       "      <td>1180</td>\n",
       "      <td>0.0</td>\n",
       "      <td>1955</td>\n",
       "      <td>0.0</td>\n",
       "      <td>98178</td>\n",
       "      <td>47.5112</td>\n",
       "      <td>-122.257</td>\n",
       "      <td>1340</td>\n",
       "      <td>5650</td>\n",
       "    </tr>\n",
       "    <tr>\n",
       "      <th>1</th>\n",
       "      <td>6414100192</td>\n",
       "      <td>12/9/2014</td>\n",
       "      <td>538000.0</td>\n",
       "      <td>3</td>\n",
       "      <td>2.25</td>\n",
       "      <td>2570</td>\n",
       "      <td>7242</td>\n",
       "      <td>2.0</td>\n",
       "      <td>0.0</td>\n",
       "      <td>0.0</td>\n",
       "      <td>...</td>\n",
       "      <td>7</td>\n",
       "      <td>2170</td>\n",
       "      <td>400.0</td>\n",
       "      <td>1951</td>\n",
       "      <td>1991.0</td>\n",
       "      <td>98125</td>\n",
       "      <td>47.7210</td>\n",
       "      <td>-122.319</td>\n",
       "      <td>1690</td>\n",
       "      <td>7639</td>\n",
       "    </tr>\n",
       "    <tr>\n",
       "      <th>2</th>\n",
       "      <td>5631500400</td>\n",
       "      <td>2/25/2015</td>\n",
       "      <td>180000.0</td>\n",
       "      <td>2</td>\n",
       "      <td>1.00</td>\n",
       "      <td>770</td>\n",
       "      <td>10000</td>\n",
       "      <td>1.0</td>\n",
       "      <td>0.0</td>\n",
       "      <td>0.0</td>\n",
       "      <td>...</td>\n",
       "      <td>6</td>\n",
       "      <td>770</td>\n",
       "      <td>0.0</td>\n",
       "      <td>1933</td>\n",
       "      <td>NaN</td>\n",
       "      <td>98028</td>\n",
       "      <td>47.7379</td>\n",
       "      <td>-122.233</td>\n",
       "      <td>2720</td>\n",
       "      <td>8062</td>\n",
       "    </tr>\n",
       "    <tr>\n",
       "      <th>3</th>\n",
       "      <td>2487200875</td>\n",
       "      <td>12/9/2014</td>\n",
       "      <td>604000.0</td>\n",
       "      <td>4</td>\n",
       "      <td>3.00</td>\n",
       "      <td>1960</td>\n",
       "      <td>5000</td>\n",
       "      <td>1.0</td>\n",
       "      <td>0.0</td>\n",
       "      <td>0.0</td>\n",
       "      <td>...</td>\n",
       "      <td>7</td>\n",
       "      <td>1050</td>\n",
       "      <td>910.0</td>\n",
       "      <td>1965</td>\n",
       "      <td>0.0</td>\n",
       "      <td>98136</td>\n",
       "      <td>47.5208</td>\n",
       "      <td>-122.393</td>\n",
       "      <td>1360</td>\n",
       "      <td>5000</td>\n",
       "    </tr>\n",
       "    <tr>\n",
       "      <th>4</th>\n",
       "      <td>1954400510</td>\n",
       "      <td>2/18/2015</td>\n",
       "      <td>510000.0</td>\n",
       "      <td>3</td>\n",
       "      <td>2.00</td>\n",
       "      <td>1680</td>\n",
       "      <td>8080</td>\n",
       "      <td>1.0</td>\n",
       "      <td>0.0</td>\n",
       "      <td>0.0</td>\n",
       "      <td>...</td>\n",
       "      <td>8</td>\n",
       "      <td>1680</td>\n",
       "      <td>0.0</td>\n",
       "      <td>1987</td>\n",
       "      <td>0.0</td>\n",
       "      <td>98074</td>\n",
       "      <td>47.6168</td>\n",
       "      <td>-122.045</td>\n",
       "      <td>1800</td>\n",
       "      <td>7503</td>\n",
       "    </tr>\n",
       "  </tbody>\n",
       "</table>\n",
       "<p>5 rows × 21 columns</p>\n",
       "</div>"
      ],
      "text/plain": [
       "           id        date     price  bedrooms  bathrooms  sqft_living  \\\n",
       "0  7129300520  10/13/2014  221900.0         3       1.00         1180   \n",
       "1  6414100192   12/9/2014  538000.0         3       2.25         2570   \n",
       "2  5631500400   2/25/2015  180000.0         2       1.00          770   \n",
       "3  2487200875   12/9/2014  604000.0         4       3.00         1960   \n",
       "4  1954400510   2/18/2015  510000.0         3       2.00         1680   \n",
       "\n",
       "   sqft_lot  floors  waterfront  view  ...  grade  sqft_above  sqft_basement  \\\n",
       "0      5650     1.0         NaN   0.0  ...      7        1180            0.0   \n",
       "1      7242     2.0         0.0   0.0  ...      7        2170          400.0   \n",
       "2     10000     1.0         0.0   0.0  ...      6         770            0.0   \n",
       "3      5000     1.0         0.0   0.0  ...      7        1050          910.0   \n",
       "4      8080     1.0         0.0   0.0  ...      8        1680            0.0   \n",
       "\n",
       "  yr_built  yr_renovated  zipcode      lat     long  sqft_living15  sqft_lot15  \n",
       "0     1955           0.0    98178  47.5112 -122.257           1340        5650  \n",
       "1     1951        1991.0    98125  47.7210 -122.319           1690        7639  \n",
       "2     1933           NaN    98028  47.7379 -122.233           2720        8062  \n",
       "3     1965           0.0    98136  47.5208 -122.393           1360        5000  \n",
       "4     1987           0.0    98074  47.6168 -122.045           1800        7503  \n",
       "\n",
       "[5 rows x 21 columns]"
      ]
     },
     "execution_count": 5,
     "metadata": {},
     "output_type": "execute_result"
    }
   ],
   "source": [
    "df.head()"
   ]
  },
  {
   "cell_type": "markdown",
   "id": "ce3d89a7",
   "metadata": {},
   "source": [
    "## Data Preparation"
   ]
  },
  {
   "cell_type": "code",
   "execution_count": 6,
   "id": "10a89570",
   "metadata": {},
   "outputs": [
    {
     "data": {
      "text/plain": [
       "id                 int64\n",
       "date              object\n",
       "price            float64\n",
       "bedrooms           int64\n",
       "bathrooms        float64\n",
       "sqft_living        int64\n",
       "sqft_lot           int64\n",
       "floors           float64\n",
       "waterfront       float64\n",
       "view             float64\n",
       "condition          int64\n",
       "grade              int64\n",
       "sqft_above         int64\n",
       "sqft_basement     object\n",
       "yr_built           int64\n",
       "yr_renovated     float64\n",
       "zipcode            int64\n",
       "lat              float64\n",
       "long             float64\n",
       "sqft_living15      int64\n",
       "sqft_lot15         int64\n",
       "dtype: object"
      ]
     },
     "execution_count": 6,
     "metadata": {},
     "output_type": "execute_result"
    }
   ],
   "source": [
    "df.dtypes"
   ]
  },
  {
   "cell_type": "code",
   "execution_count": 7,
   "id": "6b5ae9fd",
   "metadata": {},
   "outputs": [
    {
     "data": {
      "text/plain": [
       "6281"
      ]
     },
     "execution_count": 7,
     "metadata": {},
     "output_type": "execute_result"
    }
   ],
   "source": [
    "df.isna().sum().sum()"
   ]
  },
  {
   "cell_type": "code",
   "execution_count": 8,
   "id": "8d6cecc3",
   "metadata": {},
   "outputs": [
    {
     "name": "stdout",
     "output_type": "stream",
     "text": [
      "<class 'pandas.core.frame.DataFrame'>\n",
      "RangeIndex: 21597 entries, 0 to 21596\n",
      "Data columns (total 21 columns):\n",
      " #   Column         Non-Null Count  Dtype  \n",
      "---  ------         --------------  -----  \n",
      " 0   id             21597 non-null  int64  \n",
      " 1   date           21597 non-null  object \n",
      " 2   price          21597 non-null  float64\n",
      " 3   bedrooms       21597 non-null  int64  \n",
      " 4   bathrooms      21597 non-null  float64\n",
      " 5   sqft_living    21597 non-null  int64  \n",
      " 6   sqft_lot       21597 non-null  int64  \n",
      " 7   floors         21597 non-null  float64\n",
      " 8   waterfront     19221 non-null  float64\n",
      " 9   view           21534 non-null  float64\n",
      " 10  condition      21597 non-null  int64  \n",
      " 11  grade          21597 non-null  int64  \n",
      " 12  sqft_above     21597 non-null  int64  \n",
      " 13  sqft_basement  21597 non-null  object \n",
      " 14  yr_built       21597 non-null  int64  \n",
      " 15  yr_renovated   17755 non-null  float64\n",
      " 16  zipcode        21597 non-null  int64  \n",
      " 17  lat            21597 non-null  float64\n",
      " 18  long           21597 non-null  float64\n",
      " 19  sqft_living15  21597 non-null  int64  \n",
      " 20  sqft_lot15     21597 non-null  int64  \n",
      "dtypes: float64(8), int64(11), object(2)\n",
      "memory usage: 3.5+ MB\n"
     ]
    }
   ],
   "source": [
    "df.info()"
   ]
  },
  {
   "cell_type": "markdown",
   "id": "9b7333a2",
   "metadata": {},
   "source": [
    "Missing value in waterfront and yr_renovated. Usually, value in such features would not be forgotten since it infulence the sale price. Therefore, use 0 replace the NaN should be fine to modify the data set."
   ]
  },
  {
   "cell_type": "code",
   "execution_count": 9,
   "id": "874c94d7",
   "metadata": {},
   "outputs": [],
   "source": [
    "# For the whole DataFrame using pandas to change NaN to 0\n",
    "df = df.fillna(0)"
   ]
  },
  {
   "cell_type": "markdown",
   "id": "3730f907",
   "metadata": {},
   "source": [
    "### Review each colunm and clean data"
   ]
  },
  {
   "cell_type": "code",
   "execution_count": 10,
   "id": "5b5bebdc",
   "metadata": {},
   "outputs": [
    {
     "data": {
      "image/png": "[encoded data removed]",
      "text/plain": [
       "<Figure size 1152x216 with 4 Axes>"
      ]
     },
     "metadata": {
      "needs_background": "light"
     },
     "output_type": "display_data"
    }
   ],
   "source": [
    "fig, axes = plt.subplots(nrows=1, ncols=4, figsize=(16,3))\n",
    "\n",
    "for xcol, ax in zip(['date', 'view', 'condition', 'grade' ], axes):\n",
    "    df.plot(kind='scatter', x=xcol, y='price', ax=ax, alpha=0.2, color='b', logy=True)"
   ]
  },
  {
   "cell_type": "code",
   "execution_count": 11,
   "id": "8630e370",
   "metadata": {
    "scrolled": true
   },
   "outputs": [
    {
     "data": {
      "image/png": "[encoded data removed]",
      "text/plain": [
       "<Figure size 1152x216 with 4 Axes>"
      ]
     },
     "metadata": {
      "needs_background": "light"
     },
     "output_type": "display_data"
    }
   ],
   "source": [
    "fig, axes = plt.subplots(nrows=1, ncols=4, figsize=(16,3))\n",
    "\n",
    "for xcol, ax in zip(['bedrooms', 'bathrooms', 'sqft_living', 'sqft_lot'], axes):\n",
    "    df.plot(kind='scatter', x=xcol, y='price', ax=ax, alpha=0.2, color='b', logy=True)"
   ]
  },
  {
   "cell_type": "code",
   "execution_count": 12,
   "id": "d800f6ce",
   "metadata": {},
   "outputs": [
    {
     "data": {
      "text/plain": [
       "count    21597.000000\n",
       "mean         3.373200\n",
       "std          0.926299\n",
       "min          1.000000\n",
       "25%          3.000000\n",
       "50%          3.000000\n",
       "75%          4.000000\n",
       "max         33.000000\n",
       "Name: bedrooms, dtype: float64"
      ]
     },
     "execution_count": 12,
     "metadata": {},
     "output_type": "execute_result"
    }
   ],
   "source": [
    "df['bedrooms'].describe()"
   ]
  },
  {
   "cell_type": "code",
   "execution_count": 13,
   "id": "dc6079fd",
   "metadata": {},
   "outputs": [
    {
     "data": {
      "text/html": [
       "<div>\n",
       "<style scoped>\n",
       "    .dataframe tbody tr th:only-of-type {\n",
       "        vertical-align: middle;\n",
       "    }\n",
       "\n",
       "    .dataframe tbody tr th {\n",
       "        vertical-align: top;\n",
       "    }\n",
       "\n",
       "    .dataframe thead th {\n",
       "        text-align: right;\n",
       "    }\n",
       "</style>\n",
       "<table border=\"1\" class=\"dataframe\">\n",
       "  <thead>\n",
       "    <tr style=\"text-align: right;\">\n",
       "      <th></th>\n",
       "      <th>id</th>\n",
       "      <th>date</th>\n",
       "      <th>price</th>\n",
       "      <th>bedrooms</th>\n",
       "      <th>bathrooms</th>\n",
       "      <th>sqft_living</th>\n",
       "      <th>sqft_lot</th>\n",
       "      <th>floors</th>\n",
       "      <th>waterfront</th>\n",
       "      <th>view</th>\n",
       "      <th>...</th>\n",
       "      <th>grade</th>\n",
       "      <th>sqft_above</th>\n",
       "      <th>sqft_basement</th>\n",
       "      <th>yr_built</th>\n",
       "      <th>yr_renovated</th>\n",
       "      <th>zipcode</th>\n",
       "      <th>lat</th>\n",
       "      <th>long</th>\n",
       "      <th>sqft_living15</th>\n",
       "      <th>sqft_lot15</th>\n",
       "    </tr>\n",
       "  </thead>\n",
       "  <tbody>\n",
       "    <tr>\n",
       "      <th>15856</th>\n",
       "      <td>2402100895</td>\n",
       "      <td>6/25/2014</td>\n",
       "      <td>640000.0</td>\n",
       "      <td>33</td>\n",
       "      <td>1.75</td>\n",
       "      <td>1620</td>\n",
       "      <td>6000</td>\n",
       "      <td>1.0</td>\n",
       "      <td>0.0</td>\n",
       "      <td>0.0</td>\n",
       "      <td>...</td>\n",
       "      <td>7</td>\n",
       "      <td>1040</td>\n",
       "      <td>580.0</td>\n",
       "      <td>1947</td>\n",
       "      <td>0.0</td>\n",
       "      <td>98103</td>\n",
       "      <td>47.6878</td>\n",
       "      <td>-122.331</td>\n",
       "      <td>1330</td>\n",
       "      <td>4700</td>\n",
       "    </tr>\n",
       "  </tbody>\n",
       "</table>\n",
       "<p>1 rows × 21 columns</p>\n",
       "</div>"
      ],
      "text/plain": [
       "               id       date     price  bedrooms  bathrooms  sqft_living  \\\n",
       "15856  2402100895  6/25/2014  640000.0        33       1.75         1620   \n",
       "\n",
       "       sqft_lot  floors  waterfront  view  ...  grade  sqft_above  \\\n",
       "15856      6000     1.0         0.0   0.0  ...      7        1040   \n",
       "\n",
       "       sqft_basement yr_built  yr_renovated  zipcode      lat     long  \\\n",
       "15856          580.0     1947           0.0    98103  47.6878 -122.331   \n",
       "\n",
       "       sqft_living15  sqft_lot15  \n",
       "15856           1330        4700  \n",
       "\n",
       "[1 rows x 21 columns]"
      ]
     },
     "execution_count": 13,
     "metadata": {},
     "output_type": "execute_result"
    }
   ],
   "source": [
    "df[df['bedrooms'] == df['bedrooms'].max()]"
   ]
  },
  {
   "cell_type": "markdown",
   "id": "487f0605",
   "metadata": {},
   "source": [
    "The row number 15856's bedroom is too high to be counted, so delete this line is better for the whole model. "
   ]
  },
  {
   "cell_type": "code",
   "execution_count": 14,
   "id": "35b412d8",
   "metadata": {},
   "outputs": [],
   "source": [
    "df = df.drop(df.index[15856])"
   ]
  },
  {
   "cell_type": "code",
   "execution_count": 15,
   "id": "526a9ad7",
   "metadata": {},
   "outputs": [
    {
     "data": {
      "text/html": [
       "<div>\n",
       "<style scoped>\n",
       "    .dataframe tbody tr th:only-of-type {\n",
       "        vertical-align: middle;\n",
       "    }\n",
       "\n",
       "    .dataframe tbody tr th {\n",
       "        vertical-align: top;\n",
       "    }\n",
       "\n",
       "    .dataframe thead th {\n",
       "        text-align: right;\n",
       "    }\n",
       "</style>\n",
       "<table border=\"1\" class=\"dataframe\">\n",
       "  <thead>\n",
       "    <tr style=\"text-align: right;\">\n",
       "      <th></th>\n",
       "      <th>id</th>\n",
       "      <th>date</th>\n",
       "      <th>price</th>\n",
       "      <th>bedrooms</th>\n",
       "      <th>bathrooms</th>\n",
       "      <th>sqft_living</th>\n",
       "      <th>sqft_lot</th>\n",
       "      <th>floors</th>\n",
       "      <th>waterfront</th>\n",
       "      <th>view</th>\n",
       "      <th>...</th>\n",
       "      <th>grade</th>\n",
       "      <th>sqft_above</th>\n",
       "      <th>sqft_basement</th>\n",
       "      <th>yr_built</th>\n",
       "      <th>yr_renovated</th>\n",
       "      <th>zipcode</th>\n",
       "      <th>lat</th>\n",
       "      <th>long</th>\n",
       "      <th>sqft_living15</th>\n",
       "      <th>sqft_lot15</th>\n",
       "    </tr>\n",
       "  </thead>\n",
       "  <tbody>\n",
       "    <tr>\n",
       "      <th>1717</th>\n",
       "      <td>1020069017</td>\n",
       "      <td>3/27/2015</td>\n",
       "      <td>700000.0</td>\n",
       "      <td>4</td>\n",
       "      <td>1.0</td>\n",
       "      <td>1300</td>\n",
       "      <td>1651359</td>\n",
       "      <td>1.0</td>\n",
       "      <td>0.0</td>\n",
       "      <td>3.0</td>\n",
       "      <td>...</td>\n",
       "      <td>6</td>\n",
       "      <td>1300</td>\n",
       "      <td>0.0</td>\n",
       "      <td>1920</td>\n",
       "      <td>0.0</td>\n",
       "      <td>98022</td>\n",
       "      <td>47.2313</td>\n",
       "      <td>-122.023</td>\n",
       "      <td>2560</td>\n",
       "      <td>425581</td>\n",
       "    </tr>\n",
       "  </tbody>\n",
       "</table>\n",
       "<p>1 rows × 21 columns</p>\n",
       "</div>"
      ],
      "text/plain": [
       "              id       date     price  bedrooms  bathrooms  sqft_living  \\\n",
       "1717  1020069017  3/27/2015  700000.0         4        1.0         1300   \n",
       "\n",
       "      sqft_lot  floors  waterfront  view  ...  grade  sqft_above  \\\n",
       "1717   1651359     1.0         0.0   3.0  ...      6        1300   \n",
       "\n",
       "      sqft_basement yr_built  yr_renovated  zipcode      lat     long  \\\n",
       "1717            0.0     1920           0.0    98022  47.2313 -122.023   \n",
       "\n",
       "      sqft_living15  sqft_lot15  \n",
       "1717           2560      425581  \n",
       "\n",
       "[1 rows x 21 columns]"
      ]
     },
     "execution_count": 15,
     "metadata": {},
     "output_type": "execute_result"
    }
   ],
   "source": [
    "df[df['sqft_lot'] == df['sqft_lot'].max()]"
   ]
  },
  {
   "cell_type": "code",
   "execution_count": 16,
   "id": "888ef445",
   "metadata": {},
   "outputs": [],
   "source": [
    "# row 1717's sqft_lot(1651359) is too hign as well, drop this line.\n",
    "df = df.drop(df.index[1717])"
   ]
  },
  {
   "cell_type": "code",
   "execution_count": 17,
   "id": "1bd9a620",
   "metadata": {},
   "outputs": [
    {
     "data": {
      "text/html": [
       "<div>\n",
       "<style scoped>\n",
       "    .dataframe tbody tr th:only-of-type {\n",
       "        vertical-align: middle;\n",
       "    }\n",
       "\n",
       "    .dataframe tbody tr th {\n",
       "        vertical-align: top;\n",
       "    }\n",
       "\n",
       "    .dataframe thead th {\n",
       "        text-align: right;\n",
       "    }\n",
       "</style>\n",
       "<table border=\"1\" class=\"dataframe\">\n",
       "  <thead>\n",
       "    <tr style=\"text-align: right;\">\n",
       "      <th></th>\n",
       "      <th>id</th>\n",
       "      <th>date</th>\n",
       "      <th>price</th>\n",
       "      <th>bedrooms</th>\n",
       "      <th>bathrooms</th>\n",
       "      <th>sqft_living</th>\n",
       "      <th>sqft_lot</th>\n",
       "      <th>floors</th>\n",
       "      <th>waterfront</th>\n",
       "      <th>view</th>\n",
       "      <th>...</th>\n",
       "      <th>grade</th>\n",
       "      <th>sqft_above</th>\n",
       "      <th>sqft_basement</th>\n",
       "      <th>yr_built</th>\n",
       "      <th>yr_renovated</th>\n",
       "      <th>zipcode</th>\n",
       "      <th>lat</th>\n",
       "      <th>long</th>\n",
       "      <th>sqft_living15</th>\n",
       "      <th>sqft_lot15</th>\n",
       "    </tr>\n",
       "  </thead>\n",
       "  <tbody>\n",
       "    <tr>\n",
       "      <th>12764</th>\n",
       "      <td>1225069038</td>\n",
       "      <td>5/5/2014</td>\n",
       "      <td>2280000.0</td>\n",
       "      <td>7</td>\n",
       "      <td>8.0</td>\n",
       "      <td>13540</td>\n",
       "      <td>307752</td>\n",
       "      <td>3.0</td>\n",
       "      <td>0.0</td>\n",
       "      <td>4.0</td>\n",
       "      <td>...</td>\n",
       "      <td>12</td>\n",
       "      <td>9410</td>\n",
       "      <td>4130.0</td>\n",
       "      <td>1999</td>\n",
       "      <td>0.0</td>\n",
       "      <td>98053</td>\n",
       "      <td>47.6675</td>\n",
       "      <td>-121.986</td>\n",
       "      <td>4850</td>\n",
       "      <td>217800</td>\n",
       "    </tr>\n",
       "  </tbody>\n",
       "</table>\n",
       "<p>1 rows × 21 columns</p>\n",
       "</div>"
      ],
      "text/plain": [
       "               id      date      price  bedrooms  bathrooms  sqft_living  \\\n",
       "12764  1225069038  5/5/2014  2280000.0         7        8.0        13540   \n",
       "\n",
       "       sqft_lot  floors  waterfront  view  ...  grade  sqft_above  \\\n",
       "12764    307752     3.0         0.0   4.0  ...     12        9410   \n",
       "\n",
       "       sqft_basement yr_built  yr_renovated  zipcode      lat     long  \\\n",
       "12764         4130.0     1999           0.0    98053  47.6675 -121.986   \n",
       "\n",
       "       sqft_living15  sqft_lot15  \n",
       "12764           4850      217800  \n",
       "\n",
       "[1 rows x 21 columns]"
      ]
     },
     "execution_count": 17,
     "metadata": {},
     "output_type": "execute_result"
    }
   ],
   "source": [
    "df[df['sqft_living'] == df['sqft_living'].max()]"
   ]
  },
  {
   "cell_type": "code",
   "execution_count": 18,
   "id": "165c3e35",
   "metadata": {},
   "outputs": [],
   "source": [
    "# row 12764's price(1651359) is too low as well, drop this line.\n",
    "df.drop([12764], axis = 0, inplace=True)"
   ]
  },
  {
   "cell_type": "code",
   "execution_count": 19,
   "id": "d89826bf",
   "metadata": {},
   "outputs": [
    {
     "data": {
      "text/html": [
       "<div>\n",
       "<style scoped>\n",
       "    .dataframe tbody tr th:only-of-type {\n",
       "        vertical-align: middle;\n",
       "    }\n",
       "\n",
       "    .dataframe tbody tr th {\n",
       "        vertical-align: top;\n",
       "    }\n",
       "\n",
       "    .dataframe thead th {\n",
       "        text-align: right;\n",
       "    }\n",
       "</style>\n",
       "<table border=\"1\" class=\"dataframe\">\n",
       "  <thead>\n",
       "    <tr style=\"text-align: right;\">\n",
       "      <th></th>\n",
       "      <th>id</th>\n",
       "      <th>date</th>\n",
       "      <th>price</th>\n",
       "      <th>bedrooms</th>\n",
       "      <th>bathrooms</th>\n",
       "      <th>sqft_living</th>\n",
       "      <th>sqft_lot</th>\n",
       "      <th>floors</th>\n",
       "      <th>waterfront</th>\n",
       "      <th>view</th>\n",
       "      <th>...</th>\n",
       "      <th>grade</th>\n",
       "      <th>sqft_above</th>\n",
       "      <th>sqft_basement</th>\n",
       "      <th>yr_built</th>\n",
       "      <th>yr_renovated</th>\n",
       "      <th>zipcode</th>\n",
       "      <th>lat</th>\n",
       "      <th>long</th>\n",
       "      <th>sqft_living15</th>\n",
       "      <th>sqft_lot15</th>\n",
       "    </tr>\n",
       "  </thead>\n",
       "  <tbody>\n",
       "    <tr>\n",
       "      <th>7245</th>\n",
       "      <td>6762700020</td>\n",
       "      <td>10/13/2014</td>\n",
       "      <td>7700000.0</td>\n",
       "      <td>6</td>\n",
       "      <td>8.0</td>\n",
       "      <td>12050</td>\n",
       "      <td>27600</td>\n",
       "      <td>2.5</td>\n",
       "      <td>0.0</td>\n",
       "      <td>3.0</td>\n",
       "      <td>...</td>\n",
       "      <td>13</td>\n",
       "      <td>8570</td>\n",
       "      <td>3480.0</td>\n",
       "      <td>1910</td>\n",
       "      <td>1987.0</td>\n",
       "      <td>98102</td>\n",
       "      <td>47.6298</td>\n",
       "      <td>-122.323</td>\n",
       "      <td>3940</td>\n",
       "      <td>8800</td>\n",
       "    </tr>\n",
       "  </tbody>\n",
       "</table>\n",
       "<p>1 rows × 21 columns</p>\n",
       "</div>"
      ],
      "text/plain": [
       "              id        date      price  bedrooms  bathrooms  sqft_living  \\\n",
       "7245  6762700020  10/13/2014  7700000.0         6        8.0        12050   \n",
       "\n",
       "      sqft_lot  floors  waterfront  view  ...  grade  sqft_above  \\\n",
       "7245     27600     2.5         0.0   3.0  ...     13        8570   \n",
       "\n",
       "      sqft_basement yr_built  yr_renovated  zipcode      lat     long  \\\n",
       "7245         3480.0     1910        1987.0    98102  47.6298 -122.323   \n",
       "\n",
       "      sqft_living15  sqft_lot15  \n",
       "7245           3940        8800  \n",
       "\n",
       "[1 rows x 21 columns]"
      ]
     },
     "execution_count": 19,
     "metadata": {},
     "output_type": "execute_result"
    }
   ],
   "source": [
    "df[df['sqft_living'] == df['sqft_living'].max()]"
   ]
  },
  {
   "cell_type": "code",
   "execution_count": 20,
   "id": "56b6082a",
   "metadata": {},
   "outputs": [
    {
     "data": {
      "image/png": "[encoded data removed]",
      "text/plain": [
       "<Figure size 1152x216 with 4 Axes>"
      ]
     },
     "metadata": {
      "needs_background": "light"
     },
     "output_type": "display_data"
    }
   ],
   "source": [
    "fig, axes = plt.subplots(nrows=1, ncols=4, figsize=(16,3))\n",
    "\n",
    "for xcol, ax in zip(['bedrooms', 'bathrooms', 'sqft_living', 'sqft_lot'], axes):\n",
    "    df.plot(kind='scatter', x=xcol, y='price', ax=ax, alpha=0.2, color='b', logy=True)"
   ]
  },
  {
   "cell_type": "code",
   "execution_count": 21,
   "id": "fa9b642d",
   "metadata": {},
   "outputs": [
    {
     "data": {
      "image/png": "[encoded data removed]",
      "text/plain": [
       "<Figure size 1152x216 with 4 Axes>"
      ]
     },
     "metadata": {
      "needs_background": "light"
     },
     "output_type": "display_data"
    }
   ],
   "source": [
    "fig, axes = plt.subplots(nrows=1, ncols=4, figsize=(16,3))\n",
    "\n",
    "for xcol, ax in zip(['floors', 'waterfront', 'sqft_above', 'sqft_basement'], axes):\n",
    "    df.plot(kind='scatter', x=xcol, y='price', ax=ax, alpha=0.2, color='b', logy=True)"
   ]
  },
  {
   "cell_type": "markdown",
   "id": "6c96b4bf",
   "metadata": {},
   "source": [
    "Preprocessing for 'sqft_basement'"
   ]
  },
  {
   "cell_type": "code",
   "execution_count": 22,
   "id": "058f07a9",
   "metadata": {},
   "outputs": [
    {
     "data": {
      "text/plain": [
       "454"
      ]
     },
     "execution_count": 22,
     "metadata": {},
     "output_type": "execute_result"
    }
   ],
   "source": [
    "(df['sqft_basement'] == '?').sum()"
   ]
  },
  {
   "cell_type": "code",
   "execution_count": 23,
   "id": "df276267",
   "metadata": {},
   "outputs": [],
   "source": [
    "# Using replace() function for a single column, change '?' to 0\n",
    "df['sqft_basement'] = df['sqft_basement'].replace('?', 0)"
   ]
  },
  {
   "cell_type": "code",
   "execution_count": 24,
   "id": "a427505e",
   "metadata": {},
   "outputs": [],
   "source": [
    "df['sqft_basement'] = df['sqft_basement'].fillna(0)\n",
    "df['sqft_basement'] = pd.to_numeric(df['sqft_basement']).astype(np.int64)"
   ]
  },
  {
   "cell_type": "code",
   "execution_count": 25,
   "id": "bf770e1e",
   "metadata": {},
   "outputs": [
    {
     "data": {
      "image/png": "[encoded data removed]",
      "text/plain": [
       "<Figure size 1152x216 with 4 Axes>"
      ]
     },
     "metadata": {
      "needs_background": "light"
     },
     "output_type": "display_data"
    }
   ],
   "source": [
    "fig, axes = plt.subplots(nrows=1, ncols=4, figsize=(16,3))\n",
    "\n",
    "for xcol, ax in zip(['yr_built', 'yr_renovated', 'lat', 'long'], axes):\n",
    "    df.plot(kind='scatter', x=xcol, y='price', ax=ax, alpha=0.2, color='b', logy=True)"
   ]
  },
  {
   "cell_type": "markdown",
   "id": "ab28abc3",
   "metadata": {},
   "source": [
    "### Data scalling. "
   ]
  },
  {
   "cell_type": "code",
   "execution_count": 26,
   "id": "d9344e00",
   "metadata": {},
   "outputs": [],
   "source": [
    "#rescaling 'yr_built'\n",
    "df['yr_built'] = np.log(df['yr_built'])"
   ]
  },
  {
   "cell_type": "code",
   "execution_count": 27,
   "id": "733e2bde",
   "metadata": {},
   "outputs": [],
   "source": [
    "# preprocessing for rescaling\n",
    "# x_cols = ['sqft_living', 'sqft_lot', 'floors', 'waterfront', 'condition', 'sqft_basement', 'yr_built', 'yr_renovated', 'lat', 'long', 'sqft_lot15']\n",
    "# for col in x_cols:\n",
    "#     df[col] = (df[col] - df[col].mean())/df[col].std()\n",
    "# df.head()"
   ]
  },
  {
   "cell_type": "code",
   "execution_count": 28,
   "id": "19f127f3",
   "metadata": {},
   "outputs": [
    {
     "data": {
      "image/png": "[encoded data removed]",
      "text/plain": [
       "<Figure size 1152x432 with 2 Axes>"
      ]
     },
     "metadata": {
      "needs_background": "light"
     },
     "output_type": "display_data"
    }
   ],
   "source": [
    "fig, axes = plt.subplots(nrows=1, ncols=2, figsize=(16,6))\n",
    "\n",
    "for xcol, ax in zip(['sqft_living15', 'sqft_lot15' ], axes):\n",
    "    plot1 = df.plot(kind='scatter', x=xcol, y='price', ax=ax, alpha=0.2, color='b', logy=True)\n",
    "    plot1.set_title(\"Price change with {0}\".format(xcol),pad=20, fontdict={'fontsize':24})"
   ]
  },
  {
   "cell_type": "code",
   "execution_count": 29,
   "id": "4bc5da85",
   "metadata": {},
   "outputs": [
    {
     "data": {
      "text/html": [
       "<div>\n",
       "<style scoped>\n",
       "    .dataframe tbody tr th:only-of-type {\n",
       "        vertical-align: middle;\n",
       "    }\n",
       "\n",
       "    .dataframe tbody tr th {\n",
       "        vertical-align: top;\n",
       "    }\n",
       "\n",
       "    .dataframe thead th {\n",
       "        text-align: right;\n",
       "    }\n",
       "</style>\n",
       "<table border=\"1\" class=\"dataframe\">\n",
       "  <thead>\n",
       "    <tr style=\"text-align: right;\">\n",
       "      <th></th>\n",
       "      <th>id</th>\n",
       "      <th>date</th>\n",
       "      <th>price</th>\n",
       "      <th>bedrooms</th>\n",
       "      <th>bathrooms</th>\n",
       "      <th>sqft_living</th>\n",
       "      <th>sqft_lot</th>\n",
       "      <th>floors</th>\n",
       "      <th>waterfront</th>\n",
       "      <th>view</th>\n",
       "      <th>...</th>\n",
       "      <th>grade</th>\n",
       "      <th>sqft_above</th>\n",
       "      <th>sqft_basement</th>\n",
       "      <th>yr_built</th>\n",
       "      <th>yr_renovated</th>\n",
       "      <th>zipcode</th>\n",
       "      <th>lat</th>\n",
       "      <th>long</th>\n",
       "      <th>sqft_living15</th>\n",
       "      <th>sqft_lot15</th>\n",
       "    </tr>\n",
       "  </thead>\n",
       "  <tbody>\n",
       "    <tr>\n",
       "      <th>9705</th>\n",
       "      <td>225079036</td>\n",
       "      <td>1/7/2015</td>\n",
       "      <td>937500.0</td>\n",
       "      <td>4</td>\n",
       "      <td>4.0</td>\n",
       "      <td>5545</td>\n",
       "      <td>871200</td>\n",
       "      <td>2.0</td>\n",
       "      <td>0.0</td>\n",
       "      <td>0.0</td>\n",
       "      <td>...</td>\n",
       "      <td>11</td>\n",
       "      <td>3605</td>\n",
       "      <td>1940</td>\n",
       "      <td>7.602401</td>\n",
       "      <td>0.0</td>\n",
       "      <td>98014</td>\n",
       "      <td>47.676</td>\n",
       "      <td>-121.882</td>\n",
       "      <td>3420</td>\n",
       "      <td>871200</td>\n",
       "    </tr>\n",
       "  </tbody>\n",
       "</table>\n",
       "<p>1 rows × 21 columns</p>\n",
       "</div>"
      ],
      "text/plain": [
       "             id      date     price  bedrooms  bathrooms  sqft_living  \\\n",
       "9705  225079036  1/7/2015  937500.0         4        4.0         5545   \n",
       "\n",
       "      sqft_lot  floors  waterfront  view  ...  grade  sqft_above  \\\n",
       "9705    871200     2.0         0.0   0.0  ...     11        3605   \n",
       "\n",
       "      sqft_basement  yr_built  yr_renovated  zipcode     lat     long  \\\n",
       "9705           1940  7.602401           0.0    98014  47.676 -121.882   \n",
       "\n",
       "      sqft_living15  sqft_lot15  \n",
       "9705           3420      871200  \n",
       "\n",
       "[1 rows x 21 columns]"
      ]
     },
     "execution_count": 29,
     "metadata": {},
     "output_type": "execute_result"
    }
   ],
   "source": [
    "df[df['sqft_lot15'] == df['sqft_lot15'].max()]"
   ]
  },
  {
   "cell_type": "markdown",
   "id": "2d999a03",
   "metadata": {},
   "source": [
    "### Data filtering "
   ]
  },
  {
   "cell_type": "code",
   "execution_count": 30,
   "id": "0ed3523e",
   "metadata": {},
   "outputs": [
    {
     "data": {
      "text/plain": [
       "0        10/13/2014\n",
       "1         12/9/2014\n",
       "2         2/25/2015\n",
       "3         12/9/2014\n",
       "4         2/18/2015\n",
       "            ...    \n",
       "21592     5/21/2014\n",
       "21593     2/23/2015\n",
       "21594     6/23/2014\n",
       "21595     1/16/2015\n",
       "21596    10/15/2014\n",
       "Name: date, Length: 21594, dtype: object"
      ]
     },
     "execution_count": 30,
     "metadata": {},
     "output_type": "execute_result"
    }
   ],
   "source": [
    "df['date']"
   ]
  },
  {
   "cell_type": "markdown",
   "id": "61af281b",
   "metadata": {},
   "source": [
    "Sale date group all within one year, which doesn't influence much. Thus, it would be appropriate to drop 'date' column."
   ]
  },
  {
   "cell_type": "code",
   "execution_count": 31,
   "id": "d964cd52",
   "metadata": {},
   "outputs": [
    {
     "name": "stdout",
     "output_type": "stream",
     "text": [
      "count    21594.000000\n",
      "mean         0.232889\n",
      "std          0.764062\n",
      "min          0.000000\n",
      "25%          0.000000\n",
      "50%          0.000000\n",
      "75%          0.000000\n",
      "max          4.000000\n",
      "Name: view, dtype: float64\n"
     ]
    }
   ],
   "source": [
    "# So does 'view'\n",
    "print(df['view'].describe())"
   ]
  },
  {
   "cell_type": "code",
   "execution_count": 32,
   "id": "95ac77bb",
   "metadata": {},
   "outputs": [],
   "source": [
    "df = df.drop(['id', 'date', 'view'], axis=1)"
   ]
  },
  {
   "cell_type": "code",
   "execution_count": 33,
   "id": "89bbe9ec",
   "metadata": {},
   "outputs": [
    {
     "data": {
      "text/html": [
       "<div>\n",
       "<style scoped>\n",
       "    .dataframe tbody tr th:only-of-type {\n",
       "        vertical-align: middle;\n",
       "    }\n",
       "\n",
       "    .dataframe tbody tr th {\n",
       "        vertical-align: top;\n",
       "    }\n",
       "\n",
       "    .dataframe thead th {\n",
       "        text-align: right;\n",
       "    }\n",
       "</style>\n",
       "<table border=\"1\" class=\"dataframe\">\n",
       "  <thead>\n",
       "    <tr style=\"text-align: right;\">\n",
       "      <th></th>\n",
       "      <th>price</th>\n",
       "      <th>bedrooms</th>\n",
       "      <th>bathrooms</th>\n",
       "      <th>sqft_living</th>\n",
       "      <th>sqft_lot</th>\n",
       "      <th>floors</th>\n",
       "      <th>waterfront</th>\n",
       "      <th>condition</th>\n",
       "      <th>grade</th>\n",
       "      <th>sqft_above</th>\n",
       "      <th>sqft_basement</th>\n",
       "      <th>yr_built</th>\n",
       "      <th>yr_renovated</th>\n",
       "      <th>zipcode</th>\n",
       "      <th>lat</th>\n",
       "      <th>long</th>\n",
       "      <th>sqft_living15</th>\n",
       "      <th>sqft_lot15</th>\n",
       "    </tr>\n",
       "  </thead>\n",
       "  <tbody>\n",
       "    <tr>\n",
       "      <th>0</th>\n",
       "      <td>221900.0</td>\n",
       "      <td>3</td>\n",
       "      <td>1.00</td>\n",
       "      <td>1180</td>\n",
       "      <td>5650</td>\n",
       "      <td>1.0</td>\n",
       "      <td>0.0</td>\n",
       "      <td>3</td>\n",
       "      <td>7</td>\n",
       "      <td>1180</td>\n",
       "      <td>0</td>\n",
       "      <td>7.578145</td>\n",
       "      <td>0.0</td>\n",
       "      <td>98178</td>\n",
       "      <td>47.5112</td>\n",
       "      <td>-122.257</td>\n",
       "      <td>1340</td>\n",
       "      <td>5650</td>\n",
       "    </tr>\n",
       "    <tr>\n",
       "      <th>1</th>\n",
       "      <td>538000.0</td>\n",
       "      <td>3</td>\n",
       "      <td>2.25</td>\n",
       "      <td>2570</td>\n",
       "      <td>7242</td>\n",
       "      <td>2.0</td>\n",
       "      <td>0.0</td>\n",
       "      <td>3</td>\n",
       "      <td>7</td>\n",
       "      <td>2170</td>\n",
       "      <td>400</td>\n",
       "      <td>7.576097</td>\n",
       "      <td>1991.0</td>\n",
       "      <td>98125</td>\n",
       "      <td>47.7210</td>\n",
       "      <td>-122.319</td>\n",
       "      <td>1690</td>\n",
       "      <td>7639</td>\n",
       "    </tr>\n",
       "    <tr>\n",
       "      <th>2</th>\n",
       "      <td>180000.0</td>\n",
       "      <td>2</td>\n",
       "      <td>1.00</td>\n",
       "      <td>770</td>\n",
       "      <td>10000</td>\n",
       "      <td>1.0</td>\n",
       "      <td>0.0</td>\n",
       "      <td>3</td>\n",
       "      <td>6</td>\n",
       "      <td>770</td>\n",
       "      <td>0</td>\n",
       "      <td>7.566828</td>\n",
       "      <td>0.0</td>\n",
       "      <td>98028</td>\n",
       "      <td>47.7379</td>\n",
       "      <td>-122.233</td>\n",
       "      <td>2720</td>\n",
       "      <td>8062</td>\n",
       "    </tr>\n",
       "    <tr>\n",
       "      <th>3</th>\n",
       "      <td>604000.0</td>\n",
       "      <td>4</td>\n",
       "      <td>3.00</td>\n",
       "      <td>1960</td>\n",
       "      <td>5000</td>\n",
       "      <td>1.0</td>\n",
       "      <td>0.0</td>\n",
       "      <td>5</td>\n",
       "      <td>7</td>\n",
       "      <td>1050</td>\n",
       "      <td>910</td>\n",
       "      <td>7.583248</td>\n",
       "      <td>0.0</td>\n",
       "      <td>98136</td>\n",
       "      <td>47.5208</td>\n",
       "      <td>-122.393</td>\n",
       "      <td>1360</td>\n",
       "      <td>5000</td>\n",
       "    </tr>\n",
       "    <tr>\n",
       "      <th>4</th>\n",
       "      <td>510000.0</td>\n",
       "      <td>3</td>\n",
       "      <td>2.00</td>\n",
       "      <td>1680</td>\n",
       "      <td>8080</td>\n",
       "      <td>1.0</td>\n",
       "      <td>0.0</td>\n",
       "      <td>3</td>\n",
       "      <td>8</td>\n",
       "      <td>1680</td>\n",
       "      <td>0</td>\n",
       "      <td>7.594381</td>\n",
       "      <td>0.0</td>\n",
       "      <td>98074</td>\n",
       "      <td>47.6168</td>\n",
       "      <td>-122.045</td>\n",
       "      <td>1800</td>\n",
       "      <td>7503</td>\n",
       "    </tr>\n",
       "  </tbody>\n",
       "</table>\n",
       "</div>"
      ],
      "text/plain": [
       "      price  bedrooms  bathrooms  sqft_living  sqft_lot  floors  waterfront  \\\n",
       "0  221900.0         3       1.00         1180      5650     1.0         0.0   \n",
       "1  538000.0         3       2.25         2570      7242     2.0         0.0   \n",
       "2  180000.0         2       1.00          770     10000     1.0         0.0   \n",
       "3  604000.0         4       3.00         1960      5000     1.0         0.0   \n",
       "4  510000.0         3       2.00         1680      8080     1.0         0.0   \n",
       "\n",
       "   condition  grade  sqft_above  sqft_basement  yr_built  yr_renovated  \\\n",
       "0          3      7        1180              0  7.578145           0.0   \n",
       "1          3      7        2170            400  7.576097        1991.0   \n",
       "2          3      6         770              0  7.566828           0.0   \n",
       "3          5      7        1050            910  7.583248           0.0   \n",
       "4          3      8        1680              0  7.594381           0.0   \n",
       "\n",
       "   zipcode      lat     long  sqft_living15  sqft_lot15  \n",
       "0    98178  47.5112 -122.257           1340        5650  \n",
       "1    98125  47.7210 -122.319           1690        7639  \n",
       "2    98028  47.7379 -122.233           2720        8062  \n",
       "3    98136  47.5208 -122.393           1360        5000  \n",
       "4    98074  47.6168 -122.045           1800        7503  "
      ]
     },
     "execution_count": 33,
     "metadata": {},
     "output_type": "execute_result"
    }
   ],
   "source": [
    "df.head()"
   ]
  },
  {
   "cell_type": "code",
   "execution_count": 34,
   "id": "3caefa41",
   "metadata": {
    "scrolled": false
   },
   "outputs": [],
   "source": [
    "# fig = plt.figure(figsize = (15,15))\n",
    "# ax = fig.gca()\n",
    "# df.hist(ax = ax);"
   ]
  },
  {
   "cell_type": "code",
   "execution_count": 35,
   "id": "e45a59c5",
   "metadata": {},
   "outputs": [],
   "source": [
    "# pd.plotting.scatter_matrix(df,figsize  = [15, 15]);\n",
    "# plt.show()"
   ]
  },
  {
   "cell_type": "code",
   "execution_count": 36,
   "id": "ebce1849",
   "metadata": {
    "scrolled": false
   },
   "outputs": [
    {
     "data": {
      "text/html": [
       "<div>\n",
       "<style scoped>\n",
       "    .dataframe tbody tr th:only-of-type {\n",
       "        vertical-align: middle;\n",
       "    }\n",
       "\n",
       "    .dataframe tbody tr th {\n",
       "        vertical-align: top;\n",
       "    }\n",
       "\n",
       "    .dataframe thead th {\n",
       "        text-align: right;\n",
       "    }\n",
       "</style>\n",
       "<table border=\"1\" class=\"dataframe\">\n",
       "  <thead>\n",
       "    <tr style=\"text-align: right;\">\n",
       "      <th></th>\n",
       "      <th>price</th>\n",
       "      <th>bedrooms</th>\n",
       "      <th>bathrooms</th>\n",
       "      <th>sqft_living</th>\n",
       "      <th>sqft_lot</th>\n",
       "      <th>floors</th>\n",
       "      <th>waterfront</th>\n",
       "      <th>condition</th>\n",
       "      <th>grade</th>\n",
       "      <th>sqft_above</th>\n",
       "      <th>sqft_basement</th>\n",
       "      <th>yr_built</th>\n",
       "      <th>yr_renovated</th>\n",
       "      <th>zipcode</th>\n",
       "      <th>lat</th>\n",
       "      <th>long</th>\n",
       "      <th>sqft_living15</th>\n",
       "      <th>sqft_lot15</th>\n",
       "    </tr>\n",
       "  </thead>\n",
       "  <tbody>\n",
       "    <tr>\n",
       "      <th>price</th>\n",
       "      <td>1.000000</td>\n",
       "      <td>0.315353</td>\n",
       "      <td>0.525279</td>\n",
       "      <td>0.702124</td>\n",
       "      <td>0.091042</td>\n",
       "      <td>0.256412</td>\n",
       "      <td>0.264466</td>\n",
       "      <td>0.036171</td>\n",
       "      <td>0.667773</td>\n",
       "      <td>0.604894</td>\n",
       "      <td>0.319936</td>\n",
       "      <td>0.052578</td>\n",
       "      <td>0.117965</td>\n",
       "      <td>-0.053315</td>\n",
       "      <td>0.306770</td>\n",
       "      <td>0.021678</td>\n",
       "      <td>0.584886</td>\n",
       "      <td>0.081479</td>\n",
       "    </tr>\n",
       "    <tr>\n",
       "      <th>bedrooms</th>\n",
       "      <td>0.315353</td>\n",
       "      <td>1.000000</td>\n",
       "      <td>0.527438</td>\n",
       "      <td>0.593267</td>\n",
       "      <td>0.032256</td>\n",
       "      <td>0.183325</td>\n",
       "      <td>-0.002037</td>\n",
       "      <td>0.023538</td>\n",
       "      <td>0.365805</td>\n",
       "      <td>0.492010</td>\n",
       "      <td>0.302569</td>\n",
       "      <td>0.160747</td>\n",
       "      <td>0.018674</td>\n",
       "      <td>-0.158534</td>\n",
       "      <td>-0.011669</td>\n",
       "      <td>0.136283</td>\n",
       "      <td>0.404053</td>\n",
       "      <td>0.030220</td>\n",
       "    </tr>\n",
       "    <tr>\n",
       "      <th>bathrooms</th>\n",
       "      <td>0.525279</td>\n",
       "      <td>0.527438</td>\n",
       "      <td>1.000000</td>\n",
       "      <td>0.755074</td>\n",
       "      <td>0.092147</td>\n",
       "      <td>0.502330</td>\n",
       "      <td>0.063741</td>\n",
       "      <td>-0.126340</td>\n",
       "      <td>0.665604</td>\n",
       "      <td>0.685677</td>\n",
       "      <td>0.276242</td>\n",
       "      <td>0.505896</td>\n",
       "      <td>0.047294</td>\n",
       "      <td>-0.204978</td>\n",
       "      <td>0.023904</td>\n",
       "      <td>0.224745</td>\n",
       "      <td>0.569493</td>\n",
       "      <td>0.087351</td>\n",
       "    </tr>\n",
       "    <tr>\n",
       "      <th>sqft_living</th>\n",
       "      <td>0.702124</td>\n",
       "      <td>0.593267</td>\n",
       "      <td>0.755074</td>\n",
       "      <td>1.000000</td>\n",
       "      <td>0.178322</td>\n",
       "      <td>0.353646</td>\n",
       "      <td>0.105061</td>\n",
       "      <td>-0.059213</td>\n",
       "      <td>0.763630</td>\n",
       "      <td>0.876006</td>\n",
       "      <td>0.425907</td>\n",
       "      <td>0.317840</td>\n",
       "      <td>0.051344</td>\n",
       "      <td>-0.200298</td>\n",
       "      <td>0.051832</td>\n",
       "      <td>0.241218</td>\n",
       "      <td>0.757083</td>\n",
       "      <td>0.182456</td>\n",
       "    </tr>\n",
       "    <tr>\n",
       "      <th>sqft_lot</th>\n",
       "      <td>0.091042</td>\n",
       "      <td>0.032256</td>\n",
       "      <td>0.092147</td>\n",
       "      <td>0.178322</td>\n",
       "      <td>1.000000</td>\n",
       "      <td>-0.004223</td>\n",
       "      <td>0.022491</td>\n",
       "      <td>-0.010666</td>\n",
       "      <td>0.120733</td>\n",
       "      <td>0.189777</td>\n",
       "      <td>0.013919</td>\n",
       "      <td>0.058527</td>\n",
       "      <td>0.005597</td>\n",
       "      <td>-0.132561</td>\n",
       "      <td>-0.084649</td>\n",
       "      <td>0.236214</td>\n",
       "      <td>0.147527</td>\n",
       "      <td>0.720024</td>\n",
       "    </tr>\n",
       "    <tr>\n",
       "      <th>floors</th>\n",
       "      <td>0.256412</td>\n",
       "      <td>0.183325</td>\n",
       "      <td>0.502330</td>\n",
       "      <td>0.353646</td>\n",
       "      <td>-0.004223</td>\n",
       "      <td>1.000000</td>\n",
       "      <td>0.020805</td>\n",
       "      <td>-0.263954</td>\n",
       "      <td>0.458503</td>\n",
       "      <td>0.523894</td>\n",
       "      <td>-0.243484</td>\n",
       "      <td>0.485390</td>\n",
       "      <td>0.003803</td>\n",
       "      <td>-0.059520</td>\n",
       "      <td>0.049096</td>\n",
       "      <td>0.125799</td>\n",
       "      <td>0.279741</td>\n",
       "      <td>-0.011140</td>\n",
       "    </tr>\n",
       "    <tr>\n",
       "      <th>waterfront</th>\n",
       "      <td>0.264466</td>\n",
       "      <td>-0.002037</td>\n",
       "      <td>0.063741</td>\n",
       "      <td>0.105061</td>\n",
       "      <td>0.022491</td>\n",
       "      <td>0.020805</td>\n",
       "      <td>1.000000</td>\n",
       "      <td>0.016661</td>\n",
       "      <td>0.082856</td>\n",
       "      <td>0.071950</td>\n",
       "      <td>0.083232</td>\n",
       "      <td>-0.024367</td>\n",
       "      <td>0.073937</td>\n",
       "      <td>0.028920</td>\n",
       "      <td>-0.012162</td>\n",
       "      <td>-0.037624</td>\n",
       "      <td>0.083876</td>\n",
       "      <td>0.030949</td>\n",
       "    </tr>\n",
       "    <tr>\n",
       "      <th>condition</th>\n",
       "      <td>0.036171</td>\n",
       "      <td>0.023538</td>\n",
       "      <td>-0.126340</td>\n",
       "      <td>-0.059213</td>\n",
       "      <td>-0.010666</td>\n",
       "      <td>-0.263954</td>\n",
       "      <td>0.016661</td>\n",
       "      <td>1.000000</td>\n",
       "      <td>-0.146744</td>\n",
       "      <td>-0.158851</td>\n",
       "      <td>0.169019</td>\n",
       "      <td>-0.360159</td>\n",
       "      <td>-0.055794</td>\n",
       "      <td>0.002866</td>\n",
       "      <td>-0.015089</td>\n",
       "      <td>-0.105823</td>\n",
       "      <td>-0.092934</td>\n",
       "      <td>-0.003533</td>\n",
       "    </tr>\n",
       "    <tr>\n",
       "      <th>grade</th>\n",
       "      <td>0.667773</td>\n",
       "      <td>0.365805</td>\n",
       "      <td>0.665604</td>\n",
       "      <td>0.763630</td>\n",
       "      <td>0.120733</td>\n",
       "      <td>0.458503</td>\n",
       "      <td>0.082856</td>\n",
       "      <td>-0.146744</td>\n",
       "      <td>1.000000</td>\n",
       "      <td>0.756219</td>\n",
       "      <td>0.164676</td>\n",
       "      <td>0.446617</td>\n",
       "      <td>0.015644</td>\n",
       "      <td>-0.185823</td>\n",
       "      <td>0.113371</td>\n",
       "      <td>0.200229</td>\n",
       "      <td>0.713761</td>\n",
       "      <td>0.121527</td>\n",
       "    </tr>\n",
       "    <tr>\n",
       "      <th>sqft_above</th>\n",
       "      <td>0.604894</td>\n",
       "      <td>0.492010</td>\n",
       "      <td>0.685677</td>\n",
       "      <td>0.876006</td>\n",
       "      <td>0.189777</td>\n",
       "      <td>0.523894</td>\n",
       "      <td>0.071950</td>\n",
       "      <td>-0.158851</td>\n",
       "      <td>0.756219</td>\n",
       "      <td>1.000000</td>\n",
       "      <td>-0.055100</td>\n",
       "      <td>0.422918</td>\n",
       "      <td>0.020753</td>\n",
       "      <td>-0.261911</td>\n",
       "      <td>-0.001559</td>\n",
       "      <td>0.344881</td>\n",
       "      <td>0.731748</td>\n",
       "      <td>0.193944</td>\n",
       "    </tr>\n",
       "    <tr>\n",
       "      <th>sqft_basement</th>\n",
       "      <td>0.319936</td>\n",
       "      <td>0.302569</td>\n",
       "      <td>0.276242</td>\n",
       "      <td>0.425907</td>\n",
       "      <td>0.013919</td>\n",
       "      <td>-0.243484</td>\n",
       "      <td>0.083232</td>\n",
       "      <td>0.169019</td>\n",
       "      <td>0.164676</td>\n",
       "      <td>-0.055100</td>\n",
       "      <td>1.000000</td>\n",
       "      <td>-0.129691</td>\n",
       "      <td>0.065201</td>\n",
       "      <td>0.073548</td>\n",
       "      <td>0.109654</td>\n",
       "      <td>-0.143232</td>\n",
       "      <td>0.198093</td>\n",
       "      <td>0.013419</td>\n",
       "    </tr>\n",
       "    <tr>\n",
       "      <th>yr_built</th>\n",
       "      <td>0.052578</td>\n",
       "      <td>0.160747</td>\n",
       "      <td>0.505896</td>\n",
       "      <td>0.317840</td>\n",
       "      <td>0.058527</td>\n",
       "      <td>0.485390</td>\n",
       "      <td>-0.024367</td>\n",
       "      <td>-0.360159</td>\n",
       "      <td>0.446617</td>\n",
       "      <td>0.422918</td>\n",
       "      <td>-0.129691</td>\n",
       "      <td>1.000000</td>\n",
       "      <td>-0.202882</td>\n",
       "      <td>-0.348155</td>\n",
       "      <td>-0.149069</td>\n",
       "      <td>0.410401</td>\n",
       "      <td>0.325912</td>\n",
       "      <td>0.072844</td>\n",
       "    </tr>\n",
       "    <tr>\n",
       "      <th>yr_renovated</th>\n",
       "      <td>0.117965</td>\n",
       "      <td>0.018674</td>\n",
       "      <td>0.047294</td>\n",
       "      <td>0.051344</td>\n",
       "      <td>0.005597</td>\n",
       "      <td>0.003803</td>\n",
       "      <td>0.073937</td>\n",
       "      <td>-0.055794</td>\n",
       "      <td>0.015644</td>\n",
       "      <td>0.020753</td>\n",
       "      <td>0.065201</td>\n",
       "      <td>-0.202882</td>\n",
       "      <td>1.000000</td>\n",
       "      <td>0.062390</td>\n",
       "      <td>0.027969</td>\n",
       "      <td>-0.064532</td>\n",
       "      <td>0.000719</td>\n",
       "      <td>0.004511</td>\n",
       "    </tr>\n",
       "    <tr>\n",
       "      <th>zipcode</th>\n",
       "      <td>-0.053315</td>\n",
       "      <td>-0.158534</td>\n",
       "      <td>-0.204978</td>\n",
       "      <td>-0.200298</td>\n",
       "      <td>-0.132561</td>\n",
       "      <td>-0.059520</td>\n",
       "      <td>0.028920</td>\n",
       "      <td>0.002866</td>\n",
       "      <td>-0.185823</td>\n",
       "      <td>-0.261911</td>\n",
       "      <td>0.073548</td>\n",
       "      <td>-0.348155</td>\n",
       "      <td>0.062390</td>\n",
       "      <td>1.000000</td>\n",
       "      <td>0.266677</td>\n",
       "      <td>-0.564228</td>\n",
       "      <td>-0.279281</td>\n",
       "      <td>-0.147375</td>\n",
       "    </tr>\n",
       "    <tr>\n",
       "      <th>lat</th>\n",
       "      <td>0.306770</td>\n",
       "      <td>-0.011669</td>\n",
       "      <td>0.023904</td>\n",
       "      <td>0.051832</td>\n",
       "      <td>-0.084649</td>\n",
       "      <td>0.049096</td>\n",
       "      <td>-0.012162</td>\n",
       "      <td>-0.015089</td>\n",
       "      <td>0.113371</td>\n",
       "      <td>-0.001559</td>\n",
       "      <td>0.109654</td>\n",
       "      <td>-0.149069</td>\n",
       "      <td>0.027969</td>\n",
       "      <td>0.266677</td>\n",
       "      <td>1.000000</td>\n",
       "      <td>-0.135283</td>\n",
       "      <td>0.048691</td>\n",
       "      <td>-0.085313</td>\n",
       "    </tr>\n",
       "    <tr>\n",
       "      <th>long</th>\n",
       "      <td>0.021678</td>\n",
       "      <td>0.136283</td>\n",
       "      <td>0.224745</td>\n",
       "      <td>0.241218</td>\n",
       "      <td>0.236214</td>\n",
       "      <td>0.125799</td>\n",
       "      <td>-0.037624</td>\n",
       "      <td>-0.105823</td>\n",
       "      <td>0.200229</td>\n",
       "      <td>0.344881</td>\n",
       "      <td>-0.143232</td>\n",
       "      <td>0.410401</td>\n",
       "      <td>-0.064532</td>\n",
       "      <td>-0.564228</td>\n",
       "      <td>-0.135283</td>\n",
       "      <td>1.000000</td>\n",
       "      <td>0.335411</td>\n",
       "      <td>0.255787</td>\n",
       "    </tr>\n",
       "    <tr>\n",
       "      <th>sqft_living15</th>\n",
       "      <td>0.584886</td>\n",
       "      <td>0.404053</td>\n",
       "      <td>0.569493</td>\n",
       "      <td>0.757083</td>\n",
       "      <td>0.147527</td>\n",
       "      <td>0.279741</td>\n",
       "      <td>0.083876</td>\n",
       "      <td>-0.092934</td>\n",
       "      <td>0.713761</td>\n",
       "      <td>0.731748</td>\n",
       "      <td>0.198093</td>\n",
       "      <td>0.325912</td>\n",
       "      <td>0.000719</td>\n",
       "      <td>-0.279281</td>\n",
       "      <td>0.048691</td>\n",
       "      <td>0.335411</td>\n",
       "      <td>1.000000</td>\n",
       "      <td>0.182754</td>\n",
       "    </tr>\n",
       "    <tr>\n",
       "      <th>sqft_lot15</th>\n",
       "      <td>0.081479</td>\n",
       "      <td>0.030220</td>\n",
       "      <td>0.087351</td>\n",
       "      <td>0.182456</td>\n",
       "      <td>0.720024</td>\n",
       "      <td>-0.011140</td>\n",
       "      <td>0.030949</td>\n",
       "      <td>-0.003533</td>\n",
       "      <td>0.121527</td>\n",
       "      <td>0.193944</td>\n",
       "      <td>0.013419</td>\n",
       "      <td>0.072844</td>\n",
       "      <td>0.004511</td>\n",
       "      <td>-0.147375</td>\n",
       "      <td>-0.085313</td>\n",
       "      <td>0.255787</td>\n",
       "      <td>0.182754</td>\n",
       "      <td>1.000000</td>\n",
       "    </tr>\n",
       "  </tbody>\n",
       "</table>\n",
       "</div>"
      ],
      "text/plain": [
       "                  price  bedrooms  bathrooms  sqft_living  sqft_lot    floors  \\\n",
       "price          1.000000  0.315353   0.525279     0.702124  0.091042  0.256412   \n",
       "bedrooms       0.315353  1.000000   0.527438     0.593267  0.032256  0.183325   \n",
       "bathrooms      0.525279  0.527438   1.000000     0.755074  0.092147  0.502330   \n",
       "sqft_living    0.702124  0.593267   0.755074     1.000000  0.178322  0.353646   \n",
       "sqft_lot       0.091042  0.032256   0.092147     0.178322  1.000000 -0.004223   \n",
       "floors         0.256412  0.183325   0.502330     0.353646 -0.004223  1.000000   \n",
       "waterfront     0.264466 -0.002037   0.063741     0.105061  0.022491  0.020805   \n",
       "condition      0.036171  0.023538  -0.126340    -0.059213 -0.010666 -0.263954   \n",
       "grade          0.667773  0.365805   0.665604     0.763630  0.120733  0.458503   \n",
       "sqft_above     0.604894  0.492010   0.685677     0.876006  0.189777  0.523894   \n",
       "sqft_basement  0.319936  0.302569   0.276242     0.425907  0.013919 -0.243484   \n",
       "yr_built       0.052578  0.160747   0.505896     0.317840  0.058527  0.485390   \n",
       "yr_renovated   0.117965  0.018674   0.047294     0.051344  0.005597  0.003803   \n",
       "zipcode       -0.053315 -0.158534  -0.204978    -0.200298 -0.132561 -0.059520   \n",
       "lat            0.306770 -0.011669   0.023904     0.051832 -0.084649  0.049096   \n",
       "long           0.021678  0.136283   0.224745     0.241218  0.236214  0.125799   \n",
       "sqft_living15  0.584886  0.404053   0.569493     0.757083  0.147527  0.279741   \n",
       "sqft_lot15     0.081479  0.030220   0.087351     0.182456  0.720024 -0.011140   \n",
       "\n",
       "               waterfront  condition     grade  sqft_above  sqft_basement  \\\n",
       "price            0.264466   0.036171  0.667773    0.604894       0.319936   \n",
       "bedrooms        -0.002037   0.023538  0.365805    0.492010       0.302569   \n",
       "bathrooms        0.063741  -0.126340  0.665604    0.685677       0.276242   \n",
       "sqft_living      0.105061  -0.059213  0.763630    0.876006       0.425907   \n",
       "sqft_lot         0.022491  -0.010666  0.120733    0.189777       0.013919   \n",
       "floors           0.020805  -0.263954  0.458503    0.523894      -0.243484   \n",
       "waterfront       1.000000   0.016661  0.082856    0.071950       0.083232   \n",
       "condition        0.016661   1.000000 -0.146744   -0.158851       0.169019   \n",
       "grade            0.082856  -0.146744  1.000000    0.756219       0.164676   \n",
       "sqft_above       0.071950  -0.158851  0.756219    1.000000      -0.055100   \n",
       "sqft_basement    0.083232   0.169019  0.164676   -0.055100       1.000000   \n",
       "yr_built        -0.024367  -0.360159  0.446617    0.422918      -0.129691   \n",
       "yr_renovated     0.073937  -0.055794  0.015644    0.020753       0.065201   \n",
       "zipcode          0.028920   0.002866 -0.185823   -0.261911       0.073548   \n",
       "lat             -0.012162  -0.015089  0.113371   -0.001559       0.109654   \n",
       "long            -0.037624  -0.105823  0.200229    0.344881      -0.143232   \n",
       "sqft_living15    0.083876  -0.092934  0.713761    0.731748       0.198093   \n",
       "sqft_lot15       0.030949  -0.003533  0.121527    0.193944       0.013419   \n",
       "\n",
       "               yr_built  yr_renovated   zipcode       lat      long  \\\n",
       "price          0.052578      0.117965 -0.053315  0.306770  0.021678   \n",
       "bedrooms       0.160747      0.018674 -0.158534 -0.011669  0.136283   \n",
       "bathrooms      0.505896      0.047294 -0.204978  0.023904  0.224745   \n",
       "sqft_living    0.317840      0.051344 -0.200298  0.051832  0.241218   \n",
       "sqft_lot       0.058527      0.005597 -0.132561 -0.084649  0.236214   \n",
       "floors         0.485390      0.003803 -0.059520  0.049096  0.125799   \n",
       "waterfront    -0.024367      0.073937  0.028920 -0.012162 -0.037624   \n",
       "condition     -0.360159     -0.055794  0.002866 -0.015089 -0.105823   \n",
       "grade          0.446617      0.015644 -0.185823  0.113371  0.200229   \n",
       "sqft_above     0.422918      0.020753 -0.261911 -0.001559  0.344881   \n",
       "sqft_basement -0.129691      0.065201  0.073548  0.109654 -0.143232   \n",
       "yr_built       1.000000     -0.202882 -0.348155 -0.149069  0.410401   \n",
       "yr_renovated  -0.202882      1.000000  0.062390  0.027969 -0.064532   \n",
       "zipcode       -0.348155      0.062390  1.000000  0.266677 -0.564228   \n",
       "lat           -0.149069      0.027969  0.266677  1.000000 -0.135283   \n",
       "long           0.410401     -0.064532 -0.564228 -0.135283  1.000000   \n",
       "sqft_living15  0.325912      0.000719 -0.279281  0.048691  0.335411   \n",
       "sqft_lot15     0.072844      0.004511 -0.147375 -0.085313  0.255787   \n",
       "\n",
       "               sqft_living15  sqft_lot15  \n",
       "price               0.584886    0.081479  \n",
       "bedrooms            0.404053    0.030220  \n",
       "bathrooms           0.569493    0.087351  \n",
       "sqft_living         0.757083    0.182456  \n",
       "sqft_lot            0.147527    0.720024  \n",
       "floors              0.279741   -0.011140  \n",
       "waterfront          0.083876    0.030949  \n",
       "condition          -0.092934   -0.003533  \n",
       "grade               0.713761    0.121527  \n",
       "sqft_above          0.731748    0.193944  \n",
       "sqft_basement       0.198093    0.013419  \n",
       "yr_built            0.325912    0.072844  \n",
       "yr_renovated        0.000719    0.004511  \n",
       "zipcode            -0.279281   -0.147375  \n",
       "lat                 0.048691   -0.085313  \n",
       "long                0.335411    0.255787  \n",
       "sqft_living15       1.000000    0.182754  \n",
       "sqft_lot15          0.182754    1.000000  "
      ]
     },
     "execution_count": 36,
     "metadata": {},
     "output_type": "execute_result"
    }
   ],
   "source": [
    "df.corr()"
   ]
  },
  {
   "cell_type": "markdown",
   "id": "818ab23b",
   "metadata": {},
   "source": [
    "We set 0.75 as a cut-off range for correlations between variables. "
   ]
  },
  {
   "cell_type": "code",
   "execution_count": 37,
   "id": "26d17aa6",
   "metadata": {},
   "outputs": [
    {
     "data": {
      "text/html": [
       "<div>\n",
       "<style scoped>\n",
       "    .dataframe tbody tr th:only-of-type {\n",
       "        vertical-align: middle;\n",
       "    }\n",
       "\n",
       "    .dataframe tbody tr th {\n",
       "        vertical-align: top;\n",
       "    }\n",
       "\n",
       "    .dataframe thead th {\n",
       "        text-align: right;\n",
       "    }\n",
       "</style>\n",
       "<table border=\"1\" class=\"dataframe\">\n",
       "  <thead>\n",
       "    <tr style=\"text-align: right;\">\n",
       "      <th></th>\n",
       "      <th>price</th>\n",
       "      <th>bedrooms</th>\n",
       "      <th>bathrooms</th>\n",
       "      <th>sqft_living</th>\n",
       "      <th>sqft_lot</th>\n",
       "      <th>floors</th>\n",
       "      <th>waterfront</th>\n",
       "      <th>condition</th>\n",
       "      <th>grade</th>\n",
       "      <th>sqft_above</th>\n",
       "      <th>sqft_basement</th>\n",
       "      <th>yr_built</th>\n",
       "      <th>yr_renovated</th>\n",
       "      <th>zipcode</th>\n",
       "      <th>lat</th>\n",
       "      <th>long</th>\n",
       "      <th>sqft_living15</th>\n",
       "      <th>sqft_lot15</th>\n",
       "    </tr>\n",
       "  </thead>\n",
       "  <tbody>\n",
       "    <tr>\n",
       "      <th>price</th>\n",
       "      <td>True</td>\n",
       "      <td>False</td>\n",
       "      <td>False</td>\n",
       "      <td>False</td>\n",
       "      <td>False</td>\n",
       "      <td>False</td>\n",
       "      <td>False</td>\n",
       "      <td>False</td>\n",
       "      <td>False</td>\n",
       "      <td>False</td>\n",
       "      <td>False</td>\n",
       "      <td>False</td>\n",
       "      <td>False</td>\n",
       "      <td>False</td>\n",
       "      <td>False</td>\n",
       "      <td>False</td>\n",
       "      <td>False</td>\n",
       "      <td>False</td>\n",
       "    </tr>\n",
       "    <tr>\n",
       "      <th>bedrooms</th>\n",
       "      <td>False</td>\n",
       "      <td>True</td>\n",
       "      <td>False</td>\n",
       "      <td>False</td>\n",
       "      <td>False</td>\n",
       "      <td>False</td>\n",
       "      <td>False</td>\n",
       "      <td>False</td>\n",
       "      <td>False</td>\n",
       "      <td>False</td>\n",
       "      <td>False</td>\n",
       "      <td>False</td>\n",
       "      <td>False</td>\n",
       "      <td>False</td>\n",
       "      <td>False</td>\n",
       "      <td>False</td>\n",
       "      <td>False</td>\n",
       "      <td>False</td>\n",
       "    </tr>\n",
       "    <tr>\n",
       "      <th>bathrooms</th>\n",
       "      <td>False</td>\n",
       "      <td>False</td>\n",
       "      <td>True</td>\n",
       "      <td>True</td>\n",
       "      <td>False</td>\n",
       "      <td>False</td>\n",
       "      <td>False</td>\n",
       "      <td>False</td>\n",
       "      <td>False</td>\n",
       "      <td>False</td>\n",
       "      <td>False</td>\n",
       "      <td>False</td>\n",
       "      <td>False</td>\n",
       "      <td>False</td>\n",
       "      <td>False</td>\n",
       "      <td>False</td>\n",
       "      <td>False</td>\n",
       "      <td>False</td>\n",
       "    </tr>\n",
       "    <tr>\n",
       "      <th>sqft_living</th>\n",
       "      <td>False</td>\n",
       "      <td>False</td>\n",
       "      <td>True</td>\n",
       "      <td>True</td>\n",
       "      <td>False</td>\n",
       "      <td>False</td>\n",
       "      <td>False</td>\n",
       "      <td>False</td>\n",
       "      <td>True</td>\n",
       "      <td>True</td>\n",
       "      <td>False</td>\n",
       "      <td>False</td>\n",
       "      <td>False</td>\n",
       "      <td>False</td>\n",
       "      <td>False</td>\n",
       "      <td>False</td>\n",
       "      <td>True</td>\n",
       "      <td>False</td>\n",
       "    </tr>\n",
       "    <tr>\n",
       "      <th>sqft_lot</th>\n",
       "      <td>False</td>\n",
       "      <td>False</td>\n",
       "      <td>False</td>\n",
       "      <td>False</td>\n",
       "      <td>True</td>\n",
       "      <td>False</td>\n",
       "      <td>False</td>\n",
       "      <td>False</td>\n",
       "      <td>False</td>\n",
       "      <td>False</td>\n",
       "      <td>False</td>\n",
       "      <td>False</td>\n",
       "      <td>False</td>\n",
       "      <td>False</td>\n",
       "      <td>False</td>\n",
       "      <td>False</td>\n",
       "      <td>False</td>\n",
       "      <td>False</td>\n",
       "    </tr>\n",
       "    <tr>\n",
       "      <th>floors</th>\n",
       "      <td>False</td>\n",
       "      <td>False</td>\n",
       "      <td>False</td>\n",
       "      <td>False</td>\n",
       "      <td>False</td>\n",
       "      <td>True</td>\n",
       "      <td>False</td>\n",
       "      <td>False</td>\n",
       "      <td>False</td>\n",
       "      <td>False</td>\n",
       "      <td>False</td>\n",
       "      <td>False</td>\n",
       "      <td>False</td>\n",
       "      <td>False</td>\n",
       "      <td>False</td>\n",
       "      <td>False</td>\n",
       "      <td>False</td>\n",
       "      <td>False</td>\n",
       "    </tr>\n",
       "    <tr>\n",
       "      <th>waterfront</th>\n",
       "      <td>False</td>\n",
       "      <td>False</td>\n",
       "      <td>False</td>\n",
       "      <td>False</td>\n",
       "      <td>False</td>\n",
       "      <td>False</td>\n",
       "      <td>True</td>\n",
       "      <td>False</td>\n",
       "      <td>False</td>\n",
       "      <td>False</td>\n",
       "      <td>False</td>\n",
       "      <td>False</td>\n",
       "      <td>False</td>\n",
       "      <td>False</td>\n",
       "      <td>False</td>\n",
       "      <td>False</td>\n",
       "      <td>False</td>\n",
       "      <td>False</td>\n",
       "    </tr>\n",
       "    <tr>\n",
       "      <th>condition</th>\n",
       "      <td>False</td>\n",
       "      <td>False</td>\n",
       "      <td>False</td>\n",
       "      <td>False</td>\n",
       "      <td>False</td>\n",
       "      <td>False</td>\n",
       "      <td>False</td>\n",
       "      <td>True</td>\n",
       "      <td>False</td>\n",
       "      <td>False</td>\n",
       "      <td>False</td>\n",
       "      <td>False</td>\n",
       "      <td>False</td>\n",
       "      <td>False</td>\n",
       "      <td>False</td>\n",
       "      <td>False</td>\n",
       "      <td>False</td>\n",
       "      <td>False</td>\n",
       "    </tr>\n",
       "    <tr>\n",
       "      <th>grade</th>\n",
       "      <td>False</td>\n",
       "      <td>False</td>\n",
       "      <td>False</td>\n",
       "      <td>True</td>\n",
       "      <td>False</td>\n",
       "      <td>False</td>\n",
       "      <td>False</td>\n",
       "      <td>False</td>\n",
       "      <td>True</td>\n",
       "      <td>True</td>\n",
       "      <td>False</td>\n",
       "      <td>False</td>\n",
       "      <td>False</td>\n",
       "      <td>False</td>\n",
       "      <td>False</td>\n",
       "      <td>False</td>\n",
       "      <td>False</td>\n",
       "      <td>False</td>\n",
       "    </tr>\n",
       "    <tr>\n",
       "      <th>sqft_above</th>\n",
       "      <td>False</td>\n",
       "      <td>False</td>\n",
       "      <td>False</td>\n",
       "      <td>True</td>\n",
       "      <td>False</td>\n",
       "      <td>False</td>\n",
       "      <td>False</td>\n",
       "      <td>False</td>\n",
       "      <td>True</td>\n",
       "      <td>True</td>\n",
       "      <td>False</td>\n",
       "      <td>False</td>\n",
       "      <td>False</td>\n",
       "      <td>False</td>\n",
       "      <td>False</td>\n",
       "      <td>False</td>\n",
       "      <td>False</td>\n",
       "      <td>False</td>\n",
       "    </tr>\n",
       "    <tr>\n",
       "      <th>sqft_basement</th>\n",
       "      <td>False</td>\n",
       "      <td>False</td>\n",
       "      <td>False</td>\n",
       "      <td>False</td>\n",
       "      <td>False</td>\n",
       "      <td>False</td>\n",
       "      <td>False</td>\n",
       "      <td>False</td>\n",
       "      <td>False</td>\n",
       "      <td>False</td>\n",
       "      <td>True</td>\n",
       "      <td>False</td>\n",
       "      <td>False</td>\n",
       "      <td>False</td>\n",
       "      <td>False</td>\n",
       "      <td>False</td>\n",
       "      <td>False</td>\n",
       "      <td>False</td>\n",
       "    </tr>\n",
       "    <tr>\n",
       "      <th>yr_built</th>\n",
       "      <td>False</td>\n",
       "      <td>False</td>\n",
       "      <td>False</td>\n",
       "      <td>False</td>\n",
       "      <td>False</td>\n",
       "      <td>False</td>\n",
       "      <td>False</td>\n",
       "      <td>False</td>\n",
       "      <td>False</td>\n",
       "      <td>False</td>\n",
       "      <td>False</td>\n",
       "      <td>True</td>\n",
       "      <td>False</td>\n",
       "      <td>False</td>\n",
       "      <td>False</td>\n",
       "      <td>False</td>\n",
       "      <td>False</td>\n",
       "      <td>False</td>\n",
       "    </tr>\n",
       "    <tr>\n",
       "      <th>yr_renovated</th>\n",
       "      <td>False</td>\n",
       "      <td>False</td>\n",
       "      <td>False</td>\n",
       "      <td>False</td>\n",
       "      <td>False</td>\n",
       "      <td>False</td>\n",
       "      <td>False</td>\n",
       "      <td>False</td>\n",
       "      <td>False</td>\n",
       "      <td>False</td>\n",
       "      <td>False</td>\n",
       "      <td>False</td>\n",
       "      <td>True</td>\n",
       "      <td>False</td>\n",
       "      <td>False</td>\n",
       "      <td>False</td>\n",
       "      <td>False</td>\n",
       "      <td>False</td>\n",
       "    </tr>\n",
       "    <tr>\n",
       "      <th>zipcode</th>\n",
       "      <td>False</td>\n",
       "      <td>False</td>\n",
       "      <td>False</td>\n",
       "      <td>False</td>\n",
       "      <td>False</td>\n",
       "      <td>False</td>\n",
       "      <td>False</td>\n",
       "      <td>False</td>\n",
       "      <td>False</td>\n",
       "      <td>False</td>\n",
       "      <td>False</td>\n",
       "      <td>False</td>\n",
       "      <td>False</td>\n",
       "      <td>True</td>\n",
       "      <td>False</td>\n",
       "      <td>False</td>\n",
       "      <td>False</td>\n",
       "      <td>False</td>\n",
       "    </tr>\n",
       "    <tr>\n",
       "      <th>lat</th>\n",
       "      <td>False</td>\n",
       "      <td>False</td>\n",
       "      <td>False</td>\n",
       "      <td>False</td>\n",
       "      <td>False</td>\n",
       "      <td>False</td>\n",
       "      <td>False</td>\n",
       "      <td>False</td>\n",
       "      <td>False</td>\n",
       "      <td>False</td>\n",
       "      <td>False</td>\n",
       "      <td>False</td>\n",
       "      <td>False</td>\n",
       "      <td>False</td>\n",
       "      <td>True</td>\n",
       "      <td>False</td>\n",
       "      <td>False</td>\n",
       "      <td>False</td>\n",
       "    </tr>\n",
       "    <tr>\n",
       "      <th>long</th>\n",
       "      <td>False</td>\n",
       "      <td>False</td>\n",
       "      <td>False</td>\n",
       "      <td>False</td>\n",
       "      <td>False</td>\n",
       "      <td>False</td>\n",
       "      <td>False</td>\n",
       "      <td>False</td>\n",
       "      <td>False</td>\n",
       "      <td>False</td>\n",
       "      <td>False</td>\n",
       "      <td>False</td>\n",
       "      <td>False</td>\n",
       "      <td>False</td>\n",
       "      <td>False</td>\n",
       "      <td>True</td>\n",
       "      <td>False</td>\n",
       "      <td>False</td>\n",
       "    </tr>\n",
       "    <tr>\n",
       "      <th>sqft_living15</th>\n",
       "      <td>False</td>\n",
       "      <td>False</td>\n",
       "      <td>False</td>\n",
       "      <td>True</td>\n",
       "      <td>False</td>\n",
       "      <td>False</td>\n",
       "      <td>False</td>\n",
       "      <td>False</td>\n",
       "      <td>False</td>\n",
       "      <td>False</td>\n",
       "      <td>False</td>\n",
       "      <td>False</td>\n",
       "      <td>False</td>\n",
       "      <td>False</td>\n",
       "      <td>False</td>\n",
       "      <td>False</td>\n",
       "      <td>True</td>\n",
       "      <td>False</td>\n",
       "    </tr>\n",
       "    <tr>\n",
       "      <th>sqft_lot15</th>\n",
       "      <td>False</td>\n",
       "      <td>False</td>\n",
       "      <td>False</td>\n",
       "      <td>False</td>\n",
       "      <td>False</td>\n",
       "      <td>False</td>\n",
       "      <td>False</td>\n",
       "      <td>False</td>\n",
       "      <td>False</td>\n",
       "      <td>False</td>\n",
       "      <td>False</td>\n",
       "      <td>False</td>\n",
       "      <td>False</td>\n",
       "      <td>False</td>\n",
       "      <td>False</td>\n",
       "      <td>False</td>\n",
       "      <td>False</td>\n",
       "      <td>True</td>\n",
       "    </tr>\n",
       "  </tbody>\n",
       "</table>\n",
       "</div>"
      ],
      "text/plain": [
       "               price  bedrooms  bathrooms  sqft_living  sqft_lot  floors  \\\n",
       "price           True     False      False        False     False   False   \n",
       "bedrooms       False      True      False        False     False   False   \n",
       "bathrooms      False     False       True         True     False   False   \n",
       "sqft_living    False     False       True         True     False   False   \n",
       "sqft_lot       False     False      False        False      True   False   \n",
       "floors         False     False      False        False     False    True   \n",
       "waterfront     False     False      False        False     False   False   \n",
       "condition      False     False      False        False     False   False   \n",
       "grade          False     False      False         True     False   False   \n",
       "sqft_above     False     False      False         True     False   False   \n",
       "sqft_basement  False     False      False        False     False   False   \n",
       "yr_built       False     False      False        False     False   False   \n",
       "yr_renovated   False     False      False        False     False   False   \n",
       "zipcode        False     False      False        False     False   False   \n",
       "lat            False     False      False        False     False   False   \n",
       "long           False     False      False        False     False   False   \n",
       "sqft_living15  False     False      False         True     False   False   \n",
       "sqft_lot15     False     False      False        False     False   False   \n",
       "\n",
       "               waterfront  condition  grade  sqft_above  sqft_basement  \\\n",
       "price               False      False  False       False          False   \n",
       "bedrooms            False      False  False       False          False   \n",
       "bathrooms           False      False  False       False          False   \n",
       "sqft_living         False      False   True        True          False   \n",
       "sqft_lot            False      False  False       False          False   \n",
       "floors              False      False  False       False          False   \n",
       "waterfront           True      False  False       False          False   \n",
       "condition           False       True  False       False          False   \n",
       "grade               False      False   True        True          False   \n",
       "sqft_above          False      False   True        True          False   \n",
       "sqft_basement       False      False  False       False           True   \n",
       "yr_built            False      False  False       False          False   \n",
       "yr_renovated        False      False  False       False          False   \n",
       "zipcode             False      False  False       False          False   \n",
       "lat                 False      False  False       False          False   \n",
       "long                False      False  False       False          False   \n",
       "sqft_living15       False      False  False       False          False   \n",
       "sqft_lot15          False      False  False       False          False   \n",
       "\n",
       "               yr_built  yr_renovated  zipcode    lat   long  sqft_living15  \\\n",
       "price             False         False    False  False  False          False   \n",
       "bedrooms          False         False    False  False  False          False   \n",
       "bathrooms         False         False    False  False  False          False   \n",
       "sqft_living       False         False    False  False  False           True   \n",
       "sqft_lot          False         False    False  False  False          False   \n",
       "floors            False         False    False  False  False          False   \n",
       "waterfront        False         False    False  False  False          False   \n",
       "condition         False         False    False  False  False          False   \n",
       "grade             False         False    False  False  False          False   \n",
       "sqft_above        False         False    False  False  False          False   \n",
       "sqft_basement     False         False    False  False  False          False   \n",
       "yr_built           True         False    False  False  False          False   \n",
       "yr_renovated      False          True    False  False  False          False   \n",
       "zipcode           False         False     True  False  False          False   \n",
       "lat               False         False    False   True  False          False   \n",
       "long              False         False    False  False   True          False   \n",
       "sqft_living15     False         False    False  False  False           True   \n",
       "sqft_lot15        False         False    False  False  False          False   \n",
       "\n",
       "               sqft_lot15  \n",
       "price               False  \n",
       "bedrooms            False  \n",
       "bathrooms           False  \n",
       "sqft_living         False  \n",
       "sqft_lot            False  \n",
       "floors              False  \n",
       "waterfront          False  \n",
       "condition           False  \n",
       "grade               False  \n",
       "sqft_above          False  \n",
       "sqft_basement       False  \n",
       "yr_built            False  \n",
       "yr_renovated        False  \n",
       "zipcode             False  \n",
       "lat                 False  \n",
       "long                False  \n",
       "sqft_living15       False  \n",
       "sqft_lot15           True  "
      ]
     },
     "execution_count": 37,
     "metadata": {},
     "output_type": "execute_result"
    }
   ],
   "source": [
    "abs(df.corr()) > 0.75"
   ]
  },
  {
   "cell_type": "markdown",
   "id": "26f72858",
   "metadata": {},
   "source": [
    "It seems like the column 'sqft_living', 'bathrooms', 'grade', 'sqft_above',  and 'sqft_living15'are all pretty highly correlated among each other."
   ]
  },
  {
   "cell_type": "code",
   "execution_count": 38,
   "id": "a625cfe9",
   "metadata": {},
   "outputs": [],
   "source": [
    "# save absolute value of correlation matrix as a data frame\n",
    "# converts all values to absolute value\n",
    "# stacks the row:column pairs into a multindex\n",
    "# reset the index to set the multindex to seperate columns\n",
    "# sort values. 0 is the column automatically generated by the stacking\n",
    "\n",
    "df2 = df.corr().abs().stack().reset_index().sort_values(0, ascending=False)\n",
    "\n",
    "# zip the variable name columns (Which were only named level_0 and level_1 by default) in a new column named \"pairs\"\n",
    "df2['pairs'] = list(zip(df2.level_0, df2.level_1))\n",
    "\n",
    "# set index to pairs\n",
    "df2.set_index(['pairs'], inplace = True)\n",
    "\n",
    "#d rop level columns\n",
    "df2.drop(columns=['level_1', 'level_0'], inplace = True)\n",
    "\n",
    "# rename correlation column as cc rather than 0\n",
    "df2.columns = ['cc']\n",
    "\n",
    "# drop duplicates. This could be dangerous if you have variables perfectly correlated with variables other than themselves.\n",
    "# for the sake of exercise, kept it in.\n",
    "df2.drop_duplicates(inplace=True)"
   ]
  },
  {
   "cell_type": "code",
   "execution_count": 39,
   "id": "52aabfc8",
   "metadata": {},
   "outputs": [
    {
     "data": {
      "text/html": [
       "<div>\n",
       "<style scoped>\n",
       "    .dataframe tbody tr th:only-of-type {\n",
       "        vertical-align: middle;\n",
       "    }\n",
       "\n",
       "    .dataframe tbody tr th {\n",
       "        vertical-align: top;\n",
       "    }\n",
       "\n",
       "    .dataframe thead th {\n",
       "        text-align: right;\n",
       "    }\n",
       "</style>\n",
       "<table border=\"1\" class=\"dataframe\">\n",
       "  <thead>\n",
       "    <tr style=\"text-align: right;\">\n",
       "      <th></th>\n",
       "      <th>cc</th>\n",
       "    </tr>\n",
       "    <tr>\n",
       "      <th>pairs</th>\n",
       "      <th></th>\n",
       "    </tr>\n",
       "  </thead>\n",
       "  <tbody>\n",
       "    <tr>\n",
       "      <th>(sqft_living, sqft_above)</th>\n",
       "      <td>0.876006</td>\n",
       "    </tr>\n",
       "    <tr>\n",
       "      <th>(sqft_living, grade)</th>\n",
       "      <td>0.763630</td>\n",
       "    </tr>\n",
       "    <tr>\n",
       "      <th>(sqft_living15, sqft_living)</th>\n",
       "      <td>0.757083</td>\n",
       "    </tr>\n",
       "    <tr>\n",
       "      <th>(sqft_above, grade)</th>\n",
       "      <td>0.756219</td>\n",
       "    </tr>\n",
       "    <tr>\n",
       "      <th>(bathrooms, sqft_living)</th>\n",
       "      <td>0.755074</td>\n",
       "    </tr>\n",
       "  </tbody>\n",
       "</table>\n",
       "</div>"
      ],
      "text/plain": [
       "                                    cc\n",
       "pairs                                 \n",
       "(sqft_living, sqft_above)     0.876006\n",
       "(sqft_living, grade)          0.763630\n",
       "(sqft_living15, sqft_living)  0.757083\n",
       "(sqft_above, grade)           0.756219\n",
       "(bathrooms, sqft_living)      0.755074"
      ]
     },
     "execution_count": 39,
     "metadata": {},
     "output_type": "execute_result"
    }
   ],
   "source": [
    "df2[(df2.cc>.75) & (df2.cc <1)]"
   ]
  },
  {
   "cell_type": "markdown",
   "id": "ad7864fd",
   "metadata": {},
   "source": [
    "'bathrooms', 'grade', 'sqft_above', 'sqft_living15' have strong corralation with 'sqft_living'. Therefore, drop these four. Besidea, 'zipcode'provide less info compares to 'long' and 'lat', drop 'Zipcode' as well."
   ]
  },
  {
   "cell_type": "code",
   "execution_count": 40,
   "id": "5feef8f0",
   "metadata": {},
   "outputs": [],
   "source": [
    "df = df.drop(['bathrooms', 'grade', 'sqft_above', 'sqft_living15', 'zipcode'], axis=1)"
   ]
  },
  {
   "cell_type": "code",
   "execution_count": 41,
   "id": "3cb342f3",
   "metadata": {},
   "outputs": [
    {
     "data": {
      "image/png": "[encoded data removed]",
      "text/plain": [
       "<Figure size 432x288 with 2 Axes>"
      ]
     },
     "metadata": {
      "needs_background": "light"
     },
     "output_type": "display_data"
    }
   ],
   "source": [
    "# Heatmap to render the correlation matrix as a visualization.\n",
    "sns.heatmap(df.corr(), center=0);"
   ]
  },
  {
   "cell_type": "code",
   "execution_count": 42,
   "id": "58e2ae99",
   "metadata": {},
   "outputs": [
    {
     "data": {
      "text/html": [
       "<div>\n",
       "<style scoped>\n",
       "    .dataframe tbody tr th:only-of-type {\n",
       "        vertical-align: middle;\n",
       "    }\n",
       "\n",
       "    .dataframe tbody tr th {\n",
       "        vertical-align: top;\n",
       "    }\n",
       "\n",
       "    .dataframe thead th {\n",
       "        text-align: right;\n",
       "    }\n",
       "</style>\n",
       "<table border=\"1\" class=\"dataframe\">\n",
       "  <thead>\n",
       "    <tr style=\"text-align: right;\">\n",
       "      <th></th>\n",
       "      <th>price</th>\n",
       "      <th>bedrooms</th>\n",
       "      <th>sqft_living</th>\n",
       "      <th>sqft_lot</th>\n",
       "      <th>floors</th>\n",
       "      <th>waterfront</th>\n",
       "      <th>condition</th>\n",
       "      <th>sqft_basement</th>\n",
       "      <th>yr_built</th>\n",
       "      <th>yr_renovated</th>\n",
       "      <th>lat</th>\n",
       "      <th>long</th>\n",
       "      <th>sqft_lot15</th>\n",
       "    </tr>\n",
       "  </thead>\n",
       "  <tbody>\n",
       "    <tr>\n",
       "      <th>0</th>\n",
       "      <td>221900.0</td>\n",
       "      <td>3</td>\n",
       "      <td>1180</td>\n",
       "      <td>5650</td>\n",
       "      <td>1.0</td>\n",
       "      <td>0.0</td>\n",
       "      <td>3</td>\n",
       "      <td>0</td>\n",
       "      <td>7.578145</td>\n",
       "      <td>0.0</td>\n",
       "      <td>47.5112</td>\n",
       "      <td>-122.257</td>\n",
       "      <td>5650</td>\n",
       "    </tr>\n",
       "    <tr>\n",
       "      <th>1</th>\n",
       "      <td>538000.0</td>\n",
       "      <td>3</td>\n",
       "      <td>2570</td>\n",
       "      <td>7242</td>\n",
       "      <td>2.0</td>\n",
       "      <td>0.0</td>\n",
       "      <td>3</td>\n",
       "      <td>400</td>\n",
       "      <td>7.576097</td>\n",
       "      <td>1991.0</td>\n",
       "      <td>47.7210</td>\n",
       "      <td>-122.319</td>\n",
       "      <td>7639</td>\n",
       "    </tr>\n",
       "    <tr>\n",
       "      <th>2</th>\n",
       "      <td>180000.0</td>\n",
       "      <td>2</td>\n",
       "      <td>770</td>\n",
       "      <td>10000</td>\n",
       "      <td>1.0</td>\n",
       "      <td>0.0</td>\n",
       "      <td>3</td>\n",
       "      <td>0</td>\n",
       "      <td>7.566828</td>\n",
       "      <td>0.0</td>\n",
       "      <td>47.7379</td>\n",
       "      <td>-122.233</td>\n",
       "      <td>8062</td>\n",
       "    </tr>\n",
       "    <tr>\n",
       "      <th>3</th>\n",
       "      <td>604000.0</td>\n",
       "      <td>4</td>\n",
       "      <td>1960</td>\n",
       "      <td>5000</td>\n",
       "      <td>1.0</td>\n",
       "      <td>0.0</td>\n",
       "      <td>5</td>\n",
       "      <td>910</td>\n",
       "      <td>7.583248</td>\n",
       "      <td>0.0</td>\n",
       "      <td>47.5208</td>\n",
       "      <td>-122.393</td>\n",
       "      <td>5000</td>\n",
       "    </tr>\n",
       "    <tr>\n",
       "      <th>4</th>\n",
       "      <td>510000.0</td>\n",
       "      <td>3</td>\n",
       "      <td>1680</td>\n",
       "      <td>8080</td>\n",
       "      <td>1.0</td>\n",
       "      <td>0.0</td>\n",
       "      <td>3</td>\n",
       "      <td>0</td>\n",
       "      <td>7.594381</td>\n",
       "      <td>0.0</td>\n",
       "      <td>47.6168</td>\n",
       "      <td>-122.045</td>\n",
       "      <td>7503</td>\n",
       "    </tr>\n",
       "  </tbody>\n",
       "</table>\n",
       "</div>"
      ],
      "text/plain": [
       "      price  bedrooms  sqft_living  sqft_lot  floors  waterfront  condition  \\\n",
       "0  221900.0         3         1180      5650     1.0         0.0          3   \n",
       "1  538000.0         3         2570      7242     2.0         0.0          3   \n",
       "2  180000.0         2          770     10000     1.0         0.0          3   \n",
       "3  604000.0         4         1960      5000     1.0         0.0          5   \n",
       "4  510000.0         3         1680      8080     1.0         0.0          3   \n",
       "\n",
       "   sqft_basement  yr_built  yr_renovated      lat     long  sqft_lot15  \n",
       "0              0  7.578145           0.0  47.5112 -122.257        5650  \n",
       "1            400  7.576097        1991.0  47.7210 -122.319        7639  \n",
       "2              0  7.566828           0.0  47.7379 -122.233        8062  \n",
       "3            910  7.583248           0.0  47.5208 -122.393        5000  \n",
       "4              0  7.594381           0.0  47.6168 -122.045        7503  "
      ]
     },
     "execution_count": 42,
     "metadata": {},
     "output_type": "execute_result"
    }
   ],
   "source": [
    "df.head()"
   ]
  },
  {
   "cell_type": "markdown",
   "id": "04f5be01",
   "metadata": {},
   "source": [
    "A Model Using the Raw Features"
   ]
  },
  {
   "cell_type": "code",
   "execution_count": 43,
   "id": "8c3d9c27",
   "metadata": {},
   "outputs": [
    {
     "name": "stdout",
     "output_type": "stream",
     "text": [
      "<class 'pandas.core.frame.DataFrame'>\n",
      "Int64Index: 21594 entries, 0 to 21596\n",
      "Data columns (total 13 columns):\n",
      " #   Column         Non-Null Count  Dtype  \n",
      "---  ------         --------------  -----  \n",
      " 0   price          21594 non-null  float64\n",
      " 1   bedrooms       21594 non-null  int64  \n",
      " 2   sqft_living    21594 non-null  int64  \n",
      " 3   sqft_lot       21594 non-null  int64  \n",
      " 4   floors         21594 non-null  float64\n",
      " 5   waterfront     21594 non-null  float64\n",
      " 6   condition      21594 non-null  int64  \n",
      " 7   sqft_basement  21594 non-null  int64  \n",
      " 8   yr_built       21594 non-null  float64\n",
      " 9   yr_renovated   21594 non-null  float64\n",
      " 10  lat            21594 non-null  float64\n",
      " 11  long           21594 non-null  float64\n",
      " 12  sqft_lot15     21594 non-null  int64  \n",
      "dtypes: float64(7), int64(6)\n",
      "memory usage: 2.3 MB\n"
     ]
    }
   ],
   "source": [
    "df.info()"
   ]
  },
  {
   "cell_type": "markdown",
   "id": "6d0509b4",
   "metadata": {},
   "source": [
    "Regression Model Validation."
   ]
  },
  {
   "cell_type": "markdown",
   "id": "928b4ad3",
   "metadata": {},
   "source": [
    "In order to get a good sense of how well your model will be doing on new instances, you'll have to perform a so-called \"train-test-split\". What you'll be doing here, is take a sample of the data that serves as input to \"train\" our model - fit a linear regression and compute the parameter estimates for our variables, and calculate how well our predictive performance is doing comparing the actual targets  𝑦  and the fitted  𝑦̂   obtained by our model."
   ]
  },
  {
   "cell_type": "markdown",
   "id": "be35c07f",
   "metadata": {},
   "source": [
    "## Data seperation "
   ]
  },
  {
   "cell_type": "markdown",
   "id": "25c0b3b2",
   "metadata": {},
   "source": [
    "### Data split into train set and test set"
   ]
  },
  {
   "cell_type": "code",
   "execution_count": 44,
   "id": "b8cbcd6f",
   "metadata": {},
   "outputs": [],
   "source": [
    "y = df[['price']]\n",
    "X = df.drop(['price'], axis=1)"
   ]
  },
  {
   "cell_type": "code",
   "execution_count": 45,
   "id": "f77c4a1d",
   "metadata": {},
   "outputs": [],
   "source": [
    "X_train, X_test, y_train, y_test = train_test_split(X, y, test_size=0.2, random_state=40)"
   ]
  },
  {
   "cell_type": "code",
   "execution_count": 46,
   "id": "41816aff",
   "metadata": {},
   "outputs": [
    {
     "name": "stdout",
     "output_type": "stream",
     "text": [
      "17275 4319 17275 4319\n"
     ]
    }
   ],
   "source": [
    "print(len(X_train), len(X_test), len(y_train), len(y_test))"
   ]
  },
  {
   "cell_type": "code",
   "execution_count": 47,
   "id": "80913993",
   "metadata": {},
   "outputs": [],
   "source": [
    "linreg = LinearRegression()\n",
    "linreg.fit(X_train, y_train)\n",
    "\n",
    "y_hat_train = linreg.predict(X_train)\n",
    "y_hat_test = linreg.predict(X_test)"
   ]
  },
  {
   "cell_type": "code",
   "execution_count": 48,
   "id": "30ff3ae8",
   "metadata": {},
   "outputs": [
    {
     "data": {
      "text/plain": [
       "array([[ 556846.87720931],\n",
       "       [ 657800.2534114 ],\n",
       "       [ 262017.07969045],\n",
       "       ...,\n",
       "       [ 469236.60541345],\n",
       "       [1102653.84970527],\n",
       "       [ 689355.08669648]])"
      ]
     },
     "execution_count": 48,
     "metadata": {},
     "output_type": "execute_result"
    }
   ],
   "source": [
    "y_hat_train"
   ]
  },
  {
   "cell_type": "code",
   "execution_count": 49,
   "id": "68f813c5",
   "metadata": {},
   "outputs": [
    {
     "data": {
      "text/plain": [
       "array([[ 491297.61566082],\n",
       "       [2432373.83509988],\n",
       "       [ 418184.47775562],\n",
       "       ...,\n",
       "       [ 864883.85945253],\n",
       "       [ 488687.9052088 ],\n",
       "       [ 579590.95462436]])"
      ]
     },
     "execution_count": 49,
     "metadata": {},
     "output_type": "execute_result"
    }
   ],
   "source": [
    "y_hat_test"
   ]
  },
  {
   "cell_type": "markdown",
   "id": "23868c20",
   "metadata": {},
   "source": [
    "Look at the residuals and calculate the MSE for training and test sets:"
   ]
  },
  {
   "cell_type": "code",
   "execution_count": 50,
   "id": "0ed2d275",
   "metadata": {},
   "outputs": [],
   "source": [
    "train_residuals = y_hat_train - y_train\n",
    "test_residuals = y_hat_test - y_test"
   ]
  },
  {
   "cell_type": "code",
   "execution_count": 51,
   "id": "be6add3a",
   "metadata": {},
   "outputs": [
    {
     "name": "stdout",
     "output_type": "stream",
     "text": [
      "Train Mean Squarred Error: price    4.860660e+10\n",
      "dtype: float64\n",
      "Test Mean Squarred Error: price    4.661225e+10\n",
      "dtype: float64\n"
     ]
    }
   ],
   "source": [
    "mse_train = np.sum((y_train-y_hat_train)**2)/len(y_train)\n",
    "mse_test = np.sum((y_test-y_hat_test)**2)/len(y_test)\n",
    "print('Train Mean Squarred Error:', mse_train)\n",
    "print('Test Mean Squarred Error:', mse_test)"
   ]
  },
  {
   "cell_type": "markdown",
   "id": "c24137d8",
   "metadata": {},
   "source": [
    "### Cross-Validation"
   ]
  },
  {
   "cell_type": "markdown",
   "id": "de54bbff",
   "metadata": {},
   "source": [
    "The code below repeats a train-test split creation 20 times, using a test_size of 0.33. So what happens is, each time a new (random) train-test split is created. See how training and testing MSEs swing around by just taking another sample!"
   ]
  },
  {
   "cell_type": "code",
   "execution_count": 52,
   "id": "4b90d615",
   "metadata": {},
   "outputs": [
    {
     "data": {
      "image/png": "[encoded data removed]",
      "text/plain": [
       "<Figure size 432x288 with 1 Axes>"
      ]
     },
     "metadata": {
      "needs_background": "light"
     },
     "output_type": "display_data"
    }
   ],
   "source": [
    "num = 20\n",
    "train_err = []\n",
    "test_err = []\n",
    "for i in range(num):\n",
    "    X_train, X_test, y_train, y_test = train_test_split(X, y, test_size=0.33)\n",
    "    linreg.fit(X_train, y_train)\n",
    "    y_hat_train = linreg.predict(X_train)\n",
    "    y_hat_test = linreg.predict(X_test)\n",
    "    train_err.append(mean_squared_error(y_train, y_hat_train))\n",
    "    test_err.append(mean_squared_error(y_test, y_hat_test))\n",
    "plt.scatter(list(range(num)), train_err, label='Training Error')\n",
    "plt.scatter(list(range(num)), test_err, label='Testing Error')\n",
    "plt.legend();"
   ]
  },
  {
   "cell_type": "code",
   "execution_count": 53,
   "id": "36e0b826",
   "metadata": {},
   "outputs": [],
   "source": [
    "cv_5_results  = np.mean(cross_val_score(linreg, X, y, cv=5,  scoring='neg_mean_squared_error'))\n",
    "cv_10_results = np.mean(cross_val_score(linreg, X, y, cv=10, scoring='neg_mean_squared_error'))\n",
    "cv_20_results = np.mean(cross_val_score(linreg, X, y, cv=20, scoring='neg_mean_squared_error'))"
   ]
  },
  {
   "cell_type": "code",
   "execution_count": 54,
   "id": "396c6628",
   "metadata": {},
   "outputs": [
    {
     "data": {
      "text/plain": [
       "-48615169153.442276"
      ]
     },
     "execution_count": 54,
     "metadata": {},
     "output_type": "execute_result"
    }
   ],
   "source": [
    "cv_5_results"
   ]
  },
  {
   "cell_type": "code",
   "execution_count": 55,
   "id": "34ebe9b5",
   "metadata": {},
   "outputs": [
    {
     "data": {
      "text/plain": [
       "-48524218146.92415"
      ]
     },
     "execution_count": 55,
     "metadata": {},
     "output_type": "execute_result"
    }
   ],
   "source": [
    "cv_10_results"
   ]
  },
  {
   "cell_type": "code",
   "execution_count": 56,
   "id": "ff70b3e3",
   "metadata": {},
   "outputs": [
    {
     "data": {
      "text/plain": [
       "-48372694517.18513"
      ]
     },
     "execution_count": 56,
     "metadata": {},
     "output_type": "execute_result"
    }
   ],
   "source": [
    "cv_20_results"
   ]
  },
  {
   "cell_type": "markdown",
   "id": "e6eecb85",
   "metadata": {},
   "source": [
    "A Model Using the Raw Features"
   ]
  },
  {
   "cell_type": "code",
   "execution_count": 57,
   "id": "f06a3106",
   "metadata": {},
   "outputs": [],
   "source": [
    "y = df[['price']]\n",
    "X = df.drop(['price'], axis=1)\n",
    "X_train, X_test, y_train, y_test = train_test_split(X, y, test_size=0.2, random_state=41)"
   ]
  },
  {
   "cell_type": "code",
   "execution_count": 58,
   "id": "bfbf199f",
   "metadata": {},
   "outputs": [],
   "source": [
    "train = y_train.join(X_train)"
   ]
  },
  {
   "cell_type": "code",
   "execution_count": 59,
   "id": "823399b4",
   "metadata": {},
   "outputs": [],
   "source": [
    "test = y_test.join(X_test)"
   ]
  },
  {
   "cell_type": "code",
   "execution_count": 60,
   "id": "b864c837",
   "metadata": {
    "scrolled": false
   },
   "outputs": [
    {
     "data": {
      "text/html": [
       "<table class=\"simpletable\">\n",
       "<caption>OLS Regression Results</caption>\n",
       "<tr>\n",
       "  <th>Dep. Variable:</th>          <td>price</td>      <th>  R-squared:         </th>  <td>   0.645</td>  \n",
       "</tr>\n",
       "<tr>\n",
       "  <th>Model:</th>                   <td>OLS</td>       <th>  Adj. R-squared:    </th>  <td>   0.644</td>  \n",
       "</tr>\n",
       "<tr>\n",
       "  <th>Method:</th>             <td>Least Squares</td>  <th>  F-statistic:       </th>  <td>   2608.</td>  \n",
       "</tr>\n",
       "<tr>\n",
       "  <th>Date:</th>             <td>Fri, 12 Nov 2021</td> <th>  Prob (F-statistic):</th>   <td>  0.00</td>   \n",
       "</tr>\n",
       "<tr>\n",
       "  <th>Time:</th>                 <td>18:18:36</td>     <th>  Log-Likelihood:    </th> <td>-2.3713e+05</td>\n",
       "</tr>\n",
       "<tr>\n",
       "  <th>No. Observations:</th>      <td> 17275</td>      <th>  AIC:               </th>  <td>4.743e+05</td> \n",
       "</tr>\n",
       "<tr>\n",
       "  <th>Df Residuals:</th>          <td> 17262</td>      <th>  BIC:               </th>  <td>4.744e+05</td> \n",
       "</tr>\n",
       "<tr>\n",
       "  <th>Df Model:</th>              <td>    12</td>      <th>                     </th>      <td> </td>     \n",
       "</tr>\n",
       "<tr>\n",
       "  <th>Covariance Type:</th>      <td>nonrobust</td>    <th>                     </th>      <td> </td>     \n",
       "</tr>\n",
       "</table>\n",
       "<table class=\"simpletable\">\n",
       "<tr>\n",
       "        <td></td>           <th>coef</th>     <th>std err</th>      <th>t</th>      <th>P>|t|</th>  <th>[0.025</th>    <th>0.975]</th>  \n",
       "</tr>\n",
       "<tr>\n",
       "  <th>Intercept</th>     <td>-3.249e+07</td> <td> 2.52e+06</td> <td>  -12.879</td> <td> 0.000</td> <td>-3.74e+07</td> <td>-2.75e+07</td>\n",
       "</tr>\n",
       "<tr>\n",
       "  <th>bedrooms</th>      <td>-5.507e+04</td> <td> 2355.343</td> <td>  -23.381</td> <td> 0.000</td> <td>-5.97e+04</td> <td>-5.05e+04</td>\n",
       "</tr>\n",
       "<tr>\n",
       "  <th>sqft_living</th>   <td>  328.8514</td> <td>    2.939</td> <td>  111.895</td> <td> 0.000</td> <td>  323.091</td> <td>  334.612</td>\n",
       "</tr>\n",
       "<tr>\n",
       "  <th>sqft_lot</th>      <td>    0.1182</td> <td>    0.061</td> <td>    1.928</td> <td> 0.054</td> <td>   -0.002</td> <td>    0.238</td>\n",
       "</tr>\n",
       "<tr>\n",
       "  <th>floors</th>        <td> 3.036e+04</td> <td> 4165.009</td> <td>    7.290</td> <td> 0.000</td> <td> 2.22e+04</td> <td> 3.85e+04</td>\n",
       "</tr>\n",
       "<tr>\n",
       "  <th>waterfront</th>    <td> 8.271e+05</td> <td> 2.09e+04</td> <td>   39.649</td> <td> 0.000</td> <td> 7.86e+05</td> <td> 8.68e+05</td>\n",
       "</tr>\n",
       "<tr>\n",
       "  <th>condition</th>     <td> 3.465e+04</td> <td> 2862.026</td> <td>   12.105</td> <td> 0.000</td> <td>  2.9e+04</td> <td> 4.03e+04</td>\n",
       "</tr>\n",
       "<tr>\n",
       "  <th>sqft_basement</th> <td>  -40.3680</td> <td>    5.087</td> <td>   -7.935</td> <td> 0.000</td> <td>  -50.340</td> <td>  -30.396</td>\n",
       "</tr>\n",
       "<tr>\n",
       "  <th>yr_built</th>      <td>-2.734e+06</td> <td> 1.56e+05</td> <td>  -17.503</td> <td> 0.000</td> <td>-3.04e+06</td> <td>-2.43e+06</td>\n",
       "</tr>\n",
       "<tr>\n",
       "  <th>yr_renovated</th>  <td>   41.0654</td> <td>    4.826</td> <td>    8.509</td> <td> 0.000</td> <td>   31.606</td> <td>   50.525</td>\n",
       "</tr>\n",
       "<tr>\n",
       "  <th>lat</th>           <td> 6.431e+05</td> <td> 1.27e+04</td> <td>   50.733</td> <td> 0.000</td> <td> 6.18e+05</td> <td> 6.68e+05</td>\n",
       "</tr>\n",
       "<tr>\n",
       "  <th>long</th>          <td>-1.843e+05</td> <td> 1.42e+04</td> <td>  -12.984</td> <td> 0.000</td> <td>-2.12e+05</td> <td>-1.56e+05</td>\n",
       "</tr>\n",
       "<tr>\n",
       "  <th>sqft_lot15</th>    <td>   -0.3698</td> <td>    0.091</td> <td>   -4.050</td> <td> 0.000</td> <td>   -0.549</td> <td>   -0.191</td>\n",
       "</tr>\n",
       "</table>\n",
       "<table class=\"simpletable\">\n",
       "<tr>\n",
       "  <th>Omnibus:</th>       <td>12202.438</td> <th>  Durbin-Watson:     </th>  <td>   1.993</td> \n",
       "</tr>\n",
       "<tr>\n",
       "  <th>Prob(Omnibus):</th>  <td> 0.000</td>   <th>  Jarque-Bera (JB):  </th> <td>610660.952</td>\n",
       "</tr>\n",
       "<tr>\n",
       "  <th>Skew:</th>           <td> 2.840</td>   <th>  Prob(JB):          </th>  <td>    0.00</td> \n",
       "</tr>\n",
       "<tr>\n",
       "  <th>Kurtosis:</th>       <td>31.568</td>   <th>  Cond. No.          </th>  <td>7.37e+07</td> \n",
       "</tr>\n",
       "</table><br/><br/>Notes:<br/>[1] Standard Errors assume that the covariance matrix of the errors is correctly specified.<br/>[2] The condition number is large, 7.37e+07. This might indicate that there are<br/>strong multicollinearity or other numerical problems."
      ],
      "text/plain": [
       "<class 'statsmodels.iolib.summary.Summary'>\n",
       "\"\"\"\n",
       "                            OLS Regression Results                            \n",
       "==============================================================================\n",
       "Dep. Variable:                  price   R-squared:                       0.645\n",
       "Model:                            OLS   Adj. R-squared:                  0.644\n",
       "Method:                 Least Squares   F-statistic:                     2608.\n",
       "Date:                Fri, 12 Nov 2021   Prob (F-statistic):               0.00\n",
       "Time:                        18:18:36   Log-Likelihood:            -2.3713e+05\n",
       "No. Observations:               17275   AIC:                         4.743e+05\n",
       "Df Residuals:                   17262   BIC:                         4.744e+05\n",
       "Df Model:                          12                                         \n",
       "Covariance Type:            nonrobust                                         \n",
       "=================================================================================\n",
       "                    coef    std err          t      P>|t|      [0.025      0.975]\n",
       "---------------------------------------------------------------------------------\n",
       "Intercept     -3.249e+07   2.52e+06    -12.879      0.000   -3.74e+07   -2.75e+07\n",
       "bedrooms      -5.507e+04   2355.343    -23.381      0.000   -5.97e+04   -5.05e+04\n",
       "sqft_living     328.8514      2.939    111.895      0.000     323.091     334.612\n",
       "sqft_lot          0.1182      0.061      1.928      0.054      -0.002       0.238\n",
       "floors         3.036e+04   4165.009      7.290      0.000    2.22e+04    3.85e+04\n",
       "waterfront     8.271e+05   2.09e+04     39.649      0.000    7.86e+05    8.68e+05\n",
       "condition      3.465e+04   2862.026     12.105      0.000     2.9e+04    4.03e+04\n",
       "sqft_basement   -40.3680      5.087     -7.935      0.000     -50.340     -30.396\n",
       "yr_built      -2.734e+06   1.56e+05    -17.503      0.000   -3.04e+06   -2.43e+06\n",
       "yr_renovated     41.0654      4.826      8.509      0.000      31.606      50.525\n",
       "lat            6.431e+05   1.27e+04     50.733      0.000    6.18e+05    6.68e+05\n",
       "long          -1.843e+05   1.42e+04    -12.984      0.000   -2.12e+05   -1.56e+05\n",
       "sqft_lot15       -0.3698      0.091     -4.050      0.000      -0.549      -0.191\n",
       "==============================================================================\n",
       "Omnibus:                    12202.438   Durbin-Watson:                   1.993\n",
       "Prob(Omnibus):                  0.000   Jarque-Bera (JB):           610660.952\n",
       "Skew:                           2.840   Prob(JB):                         0.00\n",
       "Kurtosis:                      31.568   Cond. No.                     7.37e+07\n",
       "==============================================================================\n",
       "\n",
       "Notes:\n",
       "[1] Standard Errors assume that the covariance matrix of the errors is correctly specified.\n",
       "[2] The condition number is large, 7.37e+07. This might indicate that there are\n",
       "strong multicollinearity or other numerical problems.\n",
       "\"\"\""
      ]
     },
     "execution_count": 60,
     "metadata": {},
     "output_type": "execute_result"
    }
   ],
   "source": [
    "outcome = 'price'\n",
    "x_cols = ['bedrooms', 'sqft_living', 'sqft_lot', 'floors', 'waterfront', 'condition', 'sqft_basement', 'yr_built', 'yr_renovated', 'lat', 'long', 'sqft_lot15']\n",
    "predictors = '+'.join(x_cols)\n",
    "formula = outcome + '~' + predictors\n",
    "model = ols(formula=formula, data=train).fit()\n",
    "model.summary()"
   ]
  },
  {
   "cell_type": "markdown",
   "id": "0827e95f",
   "metadata": {},
   "source": [
    "### Selecting Features Based on p-values"
   ]
  },
  {
   "cell_type": "markdown",
   "id": "20171a02",
   "metadata": {},
   "source": [
    "All features are significant, sqft_lot p value above 0.05, so drop sqft_lot. "
   ]
  },
  {
   "cell_type": "code",
   "execution_count": 61,
   "id": "d25a179b",
   "metadata": {},
   "outputs": [],
   "source": [
    "df = df.drop(['sqft_lot'], axis=1)\n",
    "y = df[['price']]\n",
    "X = df.drop(['price'], axis=1)\n",
    "X_train, X_test, y_train, y_test = train_test_split(X, y, test_size=0.2, random_state=40)"
   ]
  },
  {
   "cell_type": "code",
   "execution_count": 62,
   "id": "49703eb9",
   "metadata": {},
   "outputs": [
    {
     "data": {
      "text/html": [
       "<div>\n",
       "<style scoped>\n",
       "    .dataframe tbody tr th:only-of-type {\n",
       "        vertical-align: middle;\n",
       "    }\n",
       "\n",
       "    .dataframe tbody tr th {\n",
       "        vertical-align: top;\n",
       "    }\n",
       "\n",
       "    .dataframe thead th {\n",
       "        text-align: right;\n",
       "    }\n",
       "</style>\n",
       "<table border=\"1\" class=\"dataframe\">\n",
       "  <thead>\n",
       "    <tr style=\"text-align: right;\">\n",
       "      <th></th>\n",
       "      <th>price</th>\n",
       "      <th>bedrooms</th>\n",
       "      <th>sqft_living</th>\n",
       "      <th>floors</th>\n",
       "      <th>waterfront</th>\n",
       "      <th>condition</th>\n",
       "      <th>sqft_basement</th>\n",
       "      <th>yr_built</th>\n",
       "      <th>yr_renovated</th>\n",
       "      <th>lat</th>\n",
       "      <th>long</th>\n",
       "      <th>sqft_lot15</th>\n",
       "    </tr>\n",
       "  </thead>\n",
       "  <tbody>\n",
       "    <tr>\n",
       "      <th>0</th>\n",
       "      <td>221900.0</td>\n",
       "      <td>3</td>\n",
       "      <td>1180</td>\n",
       "      <td>1.0</td>\n",
       "      <td>0.0</td>\n",
       "      <td>3</td>\n",
       "      <td>0</td>\n",
       "      <td>7.578145</td>\n",
       "      <td>0.0</td>\n",
       "      <td>47.5112</td>\n",
       "      <td>-122.257</td>\n",
       "      <td>5650</td>\n",
       "    </tr>\n",
       "    <tr>\n",
       "      <th>1</th>\n",
       "      <td>538000.0</td>\n",
       "      <td>3</td>\n",
       "      <td>2570</td>\n",
       "      <td>2.0</td>\n",
       "      <td>0.0</td>\n",
       "      <td>3</td>\n",
       "      <td>400</td>\n",
       "      <td>7.576097</td>\n",
       "      <td>1991.0</td>\n",
       "      <td>47.7210</td>\n",
       "      <td>-122.319</td>\n",
       "      <td>7639</td>\n",
       "    </tr>\n",
       "    <tr>\n",
       "      <th>2</th>\n",
       "      <td>180000.0</td>\n",
       "      <td>2</td>\n",
       "      <td>770</td>\n",
       "      <td>1.0</td>\n",
       "      <td>0.0</td>\n",
       "      <td>3</td>\n",
       "      <td>0</td>\n",
       "      <td>7.566828</td>\n",
       "      <td>0.0</td>\n",
       "      <td>47.7379</td>\n",
       "      <td>-122.233</td>\n",
       "      <td>8062</td>\n",
       "    </tr>\n",
       "    <tr>\n",
       "      <th>3</th>\n",
       "      <td>604000.0</td>\n",
       "      <td>4</td>\n",
       "      <td>1960</td>\n",
       "      <td>1.0</td>\n",
       "      <td>0.0</td>\n",
       "      <td>5</td>\n",
       "      <td>910</td>\n",
       "      <td>7.583248</td>\n",
       "      <td>0.0</td>\n",
       "      <td>47.5208</td>\n",
       "      <td>-122.393</td>\n",
       "      <td>5000</td>\n",
       "    </tr>\n",
       "    <tr>\n",
       "      <th>4</th>\n",
       "      <td>510000.0</td>\n",
       "      <td>3</td>\n",
       "      <td>1680</td>\n",
       "      <td>1.0</td>\n",
       "      <td>0.0</td>\n",
       "      <td>3</td>\n",
       "      <td>0</td>\n",
       "      <td>7.594381</td>\n",
       "      <td>0.0</td>\n",
       "      <td>47.6168</td>\n",
       "      <td>-122.045</td>\n",
       "      <td>7503</td>\n",
       "    </tr>\n",
       "  </tbody>\n",
       "</table>\n",
       "</div>"
      ],
      "text/plain": [
       "      price  bedrooms  sqft_living  floors  waterfront  condition  \\\n",
       "0  221900.0         3         1180     1.0         0.0          3   \n",
       "1  538000.0         3         2570     2.0         0.0          3   \n",
       "2  180000.0         2          770     1.0         0.0          3   \n",
       "3  604000.0         4         1960     1.0         0.0          5   \n",
       "4  510000.0         3         1680     1.0         0.0          3   \n",
       "\n",
       "   sqft_basement  yr_built  yr_renovated      lat     long  sqft_lot15  \n",
       "0              0  7.578145           0.0  47.5112 -122.257        5650  \n",
       "1            400  7.576097        1991.0  47.7210 -122.319        7639  \n",
       "2              0  7.566828           0.0  47.7379 -122.233        8062  \n",
       "3            910  7.583248           0.0  47.5208 -122.393        5000  \n",
       "4              0  7.594381           0.0  47.6168 -122.045        7503  "
      ]
     },
     "execution_count": 62,
     "metadata": {},
     "output_type": "execute_result"
    }
   ],
   "source": [
    "df.head()"
   ]
  },
  {
   "cell_type": "code",
   "execution_count": 63,
   "id": "8557ed2b",
   "metadata": {},
   "outputs": [
    {
     "data": {
      "text/html": [
       "<table class=\"simpletable\">\n",
       "<caption>OLS Regression Results</caption>\n",
       "<tr>\n",
       "  <th>Dep. Variable:</th>          <td>price</td>      <th>  R-squared:         </th>  <td>   0.644</td>  \n",
       "</tr>\n",
       "<tr>\n",
       "  <th>Model:</th>                   <td>OLS</td>       <th>  Adj. R-squared:    </th>  <td>   0.644</td>  \n",
       "</tr>\n",
       "<tr>\n",
       "  <th>Method:</th>             <td>Least Squares</td>  <th>  F-statistic:       </th>  <td>   2845.</td>  \n",
       "</tr>\n",
       "<tr>\n",
       "  <th>Date:</th>             <td>Fri, 12 Nov 2021</td> <th>  Prob (F-statistic):</th>   <td>  0.00</td>   \n",
       "</tr>\n",
       "<tr>\n",
       "  <th>Time:</th>                 <td>18:18:36</td>     <th>  Log-Likelihood:    </th> <td>-2.3713e+05</td>\n",
       "</tr>\n",
       "<tr>\n",
       "  <th>No. Observations:</th>      <td> 17275</td>      <th>  AIC:               </th>  <td>4.743e+05</td> \n",
       "</tr>\n",
       "<tr>\n",
       "  <th>Df Residuals:</th>          <td> 17263</td>      <th>  BIC:               </th>  <td>4.744e+05</td> \n",
       "</tr>\n",
       "<tr>\n",
       "  <th>Df Model:</th>              <td>    11</td>      <th>                     </th>      <td> </td>     \n",
       "</tr>\n",
       "<tr>\n",
       "  <th>Covariance Type:</th>      <td>nonrobust</td>    <th>                     </th>      <td> </td>     \n",
       "</tr>\n",
       "</table>\n",
       "<table class=\"simpletable\">\n",
       "<tr>\n",
       "        <td></td>           <th>coef</th>     <th>std err</th>      <th>t</th>      <th>P>|t|</th>  <th>[0.025</th>    <th>0.975]</th>  \n",
       "</tr>\n",
       "<tr>\n",
       "  <th>Intercept</th>     <td>-3.214e+07</td> <td> 2.52e+06</td> <td>  -12.773</td> <td> 0.000</td> <td>-3.71e+07</td> <td>-2.72e+07</td>\n",
       "</tr>\n",
       "<tr>\n",
       "  <th>bedrooms</th>      <td>-5.522e+04</td> <td> 2354.206</td> <td>  -23.457</td> <td> 0.000</td> <td>-5.98e+04</td> <td>-5.06e+04</td>\n",
       "</tr>\n",
       "<tr>\n",
       "  <th>sqft_living</th>   <td>  329.2533</td> <td>    2.932</td> <td>  112.306</td> <td> 0.000</td> <td>  323.507</td> <td>  335.000</td>\n",
       "</tr>\n",
       "<tr>\n",
       "  <th>floors</th>        <td> 3.028e+04</td> <td> 4165.112</td> <td>    7.270</td> <td> 0.000</td> <td> 2.21e+04</td> <td> 3.84e+04</td>\n",
       "</tr>\n",
       "<tr>\n",
       "  <th>waterfront</th>    <td> 8.269e+05</td> <td> 2.09e+04</td> <td>   39.636</td> <td> 0.000</td> <td> 7.86e+05</td> <td> 8.68e+05</td>\n",
       "</tr>\n",
       "<tr>\n",
       "  <th>condition</th>     <td> 3.453e+04</td> <td> 2861.612</td> <td>   12.066</td> <td> 0.000</td> <td> 2.89e+04</td> <td> 4.01e+04</td>\n",
       "</tr>\n",
       "<tr>\n",
       "  <th>sqft_basement</th> <td>  -40.5016</td> <td>    5.087</td> <td>   -7.961</td> <td> 0.000</td> <td>  -50.473</td> <td>  -30.530</td>\n",
       "</tr>\n",
       "<tr>\n",
       "  <th>yr_built</th>      <td>-2.747e+06</td> <td> 1.56e+05</td> <td>  -17.603</td> <td> 0.000</td> <td>-3.05e+06</td> <td>-2.44e+06</td>\n",
       "</tr>\n",
       "<tr>\n",
       "  <th>yr_renovated</th>  <td>   40.9721</td> <td>    4.826</td> <td>    8.489</td> <td> 0.000</td> <td>   31.512</td> <td>   50.432</td>\n",
       "</tr>\n",
       "<tr>\n",
       "  <th>lat</th>           <td> 6.422e+05</td> <td> 1.27e+04</td> <td>   50.692</td> <td> 0.000</td> <td> 6.17e+05</td> <td> 6.67e+05</td>\n",
       "</tr>\n",
       "<tr>\n",
       "  <th>long</th>          <td>-1.827e+05</td> <td> 1.42e+04</td> <td>  -12.890</td> <td> 0.000</td> <td> -2.1e+05</td> <td>-1.55e+05</td>\n",
       "</tr>\n",
       "<tr>\n",
       "  <th>sqft_lot15</th>    <td>   -0.2486</td> <td>    0.066</td> <td>   -3.755</td> <td> 0.000</td> <td>   -0.378</td> <td>   -0.119</td>\n",
       "</tr>\n",
       "</table>\n",
       "<table class=\"simpletable\">\n",
       "<tr>\n",
       "  <th>Omnibus:</th>       <td>12192.702</td> <th>  Durbin-Watson:     </th>  <td>   1.993</td> \n",
       "</tr>\n",
       "<tr>\n",
       "  <th>Prob(Omnibus):</th>  <td> 0.000</td>   <th>  Jarque-Bera (JB):  </th> <td>607926.542</td>\n",
       "</tr>\n",
       "<tr>\n",
       "  <th>Skew:</th>           <td> 2.838</td>   <th>  Prob(JB):          </th>  <td>    0.00</td> \n",
       "</tr>\n",
       "<tr>\n",
       "  <th>Kurtosis:</th>       <td>31.502</td>   <th>  Cond. No.          </th>  <td>4.46e+07</td> \n",
       "</tr>\n",
       "</table><br/><br/>Notes:<br/>[1] Standard Errors assume that the covariance matrix of the errors is correctly specified.<br/>[2] The condition number is large, 4.46e+07. This might indicate that there are<br/>strong multicollinearity or other numerical problems."
      ],
      "text/plain": [
       "<class 'statsmodels.iolib.summary.Summary'>\n",
       "\"\"\"\n",
       "                            OLS Regression Results                            \n",
       "==============================================================================\n",
       "Dep. Variable:                  price   R-squared:                       0.644\n",
       "Model:                            OLS   Adj. R-squared:                  0.644\n",
       "Method:                 Least Squares   F-statistic:                     2845.\n",
       "Date:                Fri, 12 Nov 2021   Prob (F-statistic):               0.00\n",
       "Time:                        18:18:36   Log-Likelihood:            -2.3713e+05\n",
       "No. Observations:               17275   AIC:                         4.743e+05\n",
       "Df Residuals:                   17263   BIC:                         4.744e+05\n",
       "Df Model:                          11                                         \n",
       "Covariance Type:            nonrobust                                         \n",
       "=================================================================================\n",
       "                    coef    std err          t      P>|t|      [0.025      0.975]\n",
       "---------------------------------------------------------------------------------\n",
       "Intercept     -3.214e+07   2.52e+06    -12.773      0.000   -3.71e+07   -2.72e+07\n",
       "bedrooms      -5.522e+04   2354.206    -23.457      0.000   -5.98e+04   -5.06e+04\n",
       "sqft_living     329.2533      2.932    112.306      0.000     323.507     335.000\n",
       "floors         3.028e+04   4165.112      7.270      0.000    2.21e+04    3.84e+04\n",
       "waterfront     8.269e+05   2.09e+04     39.636      0.000    7.86e+05    8.68e+05\n",
       "condition      3.453e+04   2861.612     12.066      0.000    2.89e+04    4.01e+04\n",
       "sqft_basement   -40.5016      5.087     -7.961      0.000     -50.473     -30.530\n",
       "yr_built      -2.747e+06   1.56e+05    -17.603      0.000   -3.05e+06   -2.44e+06\n",
       "yr_renovated     40.9721      4.826      8.489      0.000      31.512      50.432\n",
       "lat            6.422e+05   1.27e+04     50.692      0.000    6.17e+05    6.67e+05\n",
       "long          -1.827e+05   1.42e+04    -12.890      0.000    -2.1e+05   -1.55e+05\n",
       "sqft_lot15       -0.2486      0.066     -3.755      0.000      -0.378      -0.119\n",
       "==============================================================================\n",
       "Omnibus:                    12192.702   Durbin-Watson:                   1.993\n",
       "Prob(Omnibus):                  0.000   Jarque-Bera (JB):           607926.542\n",
       "Skew:                           2.838   Prob(JB):                         0.00\n",
       "Kurtosis:                      31.502   Cond. No.                     4.46e+07\n",
       "==============================================================================\n",
       "\n",
       "Notes:\n",
       "[1] Standard Errors assume that the covariance matrix of the errors is correctly specified.\n",
       "[2] The condition number is large, 4.46e+07. This might indicate that there are\n",
       "strong multicollinearity or other numerical problems.\n",
       "\"\"\""
      ]
     },
     "execution_count": 63,
     "metadata": {},
     "output_type": "execute_result"
    }
   ],
   "source": [
    "outcome = 'price'\n",
    "x_cols = ['bedrooms', 'sqft_living', 'floors', 'waterfront', 'condition', 'sqft_basement', 'yr_built', 'yr_renovated', 'lat', 'long', 'sqft_lot15']\n",
    "predictors = '+'.join(x_cols)\n",
    "formula = outcome + '~' + predictors\n",
    "model = ols(formula=formula, data=train).fit()\n",
    "model.summary()"
   ]
  },
  {
   "cell_type": "code",
   "execution_count": 64,
   "id": "a20c1f1c",
   "metadata": {},
   "outputs": [
    {
     "data": {
      "text/plain": [
       "<statsmodels.regression.linear_model.RegressionResultsWrapper at 0x1a31a0410a0>"
      ]
     },
     "execution_count": 64,
     "metadata": {},
     "output_type": "execute_result"
    }
   ],
   "source": [
    "model"
   ]
  },
  {
   "cell_type": "markdown",
   "id": "acec564a",
   "metadata": {},
   "source": [
    "### Model validation by test set "
   ]
  },
  {
   "cell_type": "code",
   "execution_count": 65,
   "id": "0dbc82ba",
   "metadata": {},
   "outputs": [],
   "source": [
    "# fit a model\n",
    "predictions = model.predict(X_test)"
   ]
  },
  {
   "cell_type": "code",
   "execution_count": 66,
   "id": "e2457392",
   "metadata": {},
   "outputs": [
    {
     "data": {
      "text/plain": [
       "9399     4.978477e+05\n",
       "6227     2.420069e+06\n",
       "19778    4.176605e+05\n",
       "1443     4.406433e+05\n",
       "17437    3.492576e+05\n",
       "             ...     \n",
       "8209     8.179439e+05\n",
       "9843     4.095482e+05\n",
       "3103     8.720857e+05\n",
       "2094     4.896946e+05\n",
       "10343    5.823229e+05\n",
       "Length: 4319, dtype: float64"
      ]
     },
     "execution_count": 66,
     "metadata": {},
     "output_type": "execute_result"
    }
   ],
   "source": [
    "predictions"
   ]
  },
  {
   "cell_type": "code",
   "execution_count": 67,
   "id": "c82fc8c2",
   "metadata": {},
   "outputs": [
    {
     "data": {
      "text/plain": [
       "9399     4.978477e+05\n",
       "6227     2.420069e+06\n",
       "19778    4.176605e+05\n",
       "1443     4.406433e+05\n",
       "17437    3.492576e+05\n",
       "dtype: float64"
      ]
     },
     "execution_count": 67,
     "metadata": {},
     "output_type": "execute_result"
    }
   ],
   "source": [
    "predictions[0:5]"
   ]
  },
  {
   "cell_type": "code",
   "execution_count": 68,
   "id": "a98c3a66",
   "metadata": {},
   "outputs": [
    {
     "data": {
      "text/plain": [
       "Text(0, 0.5, 'Predictions')"
      ]
     },
     "execution_count": 68,
     "metadata": {},
     "output_type": "execute_result"
    },
    {
     "data": {
      "image/png": "[encoded data removed]",
      "text/plain": [
       "<Figure size 432x288 with 1 Axes>"
      ]
     },
     "metadata": {
      "needs_background": "light"
     },
     "output_type": "display_data"
    }
   ],
   "source": [
    "## The line / model\n",
    "plt.scatter(y_test, predictions)\n",
    "plt.xlabel(\"True Values\")\n",
    "plt.ylabel(\"Predictions\")"
   ]
  },
  {
   "cell_type": "code",
   "execution_count": 69,
   "id": "15f1b431",
   "metadata": {},
   "outputs": [
    {
     "data": {
      "text/plain": [
       "0.6421216035522224"
      ]
     },
     "execution_count": 69,
     "metadata": {},
     "output_type": "execute_result"
    }
   ],
   "source": [
    "model = LinearRegression()\n",
    "model.fit(X_train, y_train)\n",
    "model.score(X_test, y_test)"
   ]
  },
  {
   "cell_type": "code",
   "execution_count": 70,
   "id": "18c61e1d",
   "metadata": {},
   "outputs": [
    {
     "name": "stdout",
     "output_type": "stream",
     "text": [
      "Score: 0.6421216035522224\n"
     ]
    }
   ],
   "source": [
    "print (\"Score:\", model.score(X_test, y_test))"
   ]
  },
  {
   "cell_type": "code",
   "execution_count": 71,
   "id": "47ea8bd4",
   "metadata": {
    "scrolled": false
   },
   "outputs": [],
   "source": [
    "# pd.plotting.scatter_matrix(df[x_cols], figsize=(20,20));"
   ]
  },
  {
   "cell_type": "markdown",
   "id": "b5948963",
   "metadata": {},
   "source": [
    "Transforming Non-Normal Features"
   ]
  },
  {
   "cell_type": "code",
   "execution_count": 72,
   "id": "ebd741da",
   "metadata": {},
   "outputs": [],
   "source": [
    "# fig = plt.figure(figsize = (15,15))\n",
    "# ax = fig.gca()\n",
    "# df.hist(ax = ax);"
   ]
  },
  {
   "cell_type": "code",
   "execution_count": 73,
   "id": "619e6de1",
   "metadata": {},
   "outputs": [
    {
     "data": {
      "text/html": [
       "<div>\n",
       "<style scoped>\n",
       "    .dataframe tbody tr th:only-of-type {\n",
       "        vertical-align: middle;\n",
       "    }\n",
       "\n",
       "    .dataframe tbody tr th {\n",
       "        vertical-align: top;\n",
       "    }\n",
       "\n",
       "    .dataframe thead th {\n",
       "        text-align: right;\n",
       "    }\n",
       "</style>\n",
       "<table border=\"1\" class=\"dataframe\">\n",
       "  <thead>\n",
       "    <tr style=\"text-align: right;\">\n",
       "      <th></th>\n",
       "      <th>price</th>\n",
       "      <th>bedrooms</th>\n",
       "      <th>sqft_living</th>\n",
       "      <th>floors</th>\n",
       "      <th>waterfront</th>\n",
       "      <th>condition</th>\n",
       "      <th>sqft_basement</th>\n",
       "      <th>yr_built</th>\n",
       "      <th>yr_renovated</th>\n",
       "      <th>lat</th>\n",
       "      <th>long</th>\n",
       "      <th>sqft_lot15</th>\n",
       "    </tr>\n",
       "  </thead>\n",
       "  <tbody>\n",
       "    <tr>\n",
       "      <th>0</th>\n",
       "      <td>221900.0</td>\n",
       "      <td>3</td>\n",
       "      <td>1180</td>\n",
       "      <td>1.0</td>\n",
       "      <td>0.0</td>\n",
       "      <td>3</td>\n",
       "      <td>0</td>\n",
       "      <td>7.578145</td>\n",
       "      <td>0.0</td>\n",
       "      <td>47.5112</td>\n",
       "      <td>-122.257</td>\n",
       "      <td>5650</td>\n",
       "    </tr>\n",
       "    <tr>\n",
       "      <th>1</th>\n",
       "      <td>538000.0</td>\n",
       "      <td>3</td>\n",
       "      <td>2570</td>\n",
       "      <td>2.0</td>\n",
       "      <td>0.0</td>\n",
       "      <td>3</td>\n",
       "      <td>400</td>\n",
       "      <td>7.576097</td>\n",
       "      <td>1991.0</td>\n",
       "      <td>47.7210</td>\n",
       "      <td>-122.319</td>\n",
       "      <td>7639</td>\n",
       "    </tr>\n",
       "    <tr>\n",
       "      <th>2</th>\n",
       "      <td>180000.0</td>\n",
       "      <td>2</td>\n",
       "      <td>770</td>\n",
       "      <td>1.0</td>\n",
       "      <td>0.0</td>\n",
       "      <td>3</td>\n",
       "      <td>0</td>\n",
       "      <td>7.566828</td>\n",
       "      <td>0.0</td>\n",
       "      <td>47.7379</td>\n",
       "      <td>-122.233</td>\n",
       "      <td>8062</td>\n",
       "    </tr>\n",
       "    <tr>\n",
       "      <th>3</th>\n",
       "      <td>604000.0</td>\n",
       "      <td>4</td>\n",
       "      <td>1960</td>\n",
       "      <td>1.0</td>\n",
       "      <td>0.0</td>\n",
       "      <td>5</td>\n",
       "      <td>910</td>\n",
       "      <td>7.583248</td>\n",
       "      <td>0.0</td>\n",
       "      <td>47.5208</td>\n",
       "      <td>-122.393</td>\n",
       "      <td>5000</td>\n",
       "    </tr>\n",
       "    <tr>\n",
       "      <th>4</th>\n",
       "      <td>510000.0</td>\n",
       "      <td>3</td>\n",
       "      <td>1680</td>\n",
       "      <td>1.0</td>\n",
       "      <td>0.0</td>\n",
       "      <td>3</td>\n",
       "      <td>0</td>\n",
       "      <td>7.594381</td>\n",
       "      <td>0.0</td>\n",
       "      <td>47.6168</td>\n",
       "      <td>-122.045</td>\n",
       "      <td>7503</td>\n",
       "    </tr>\n",
       "  </tbody>\n",
       "</table>\n",
       "</div>"
      ],
      "text/plain": [
       "      price  bedrooms  sqft_living  floors  waterfront  condition  \\\n",
       "0  221900.0         3         1180     1.0         0.0          3   \n",
       "1  538000.0         3         2570     2.0         0.0          3   \n",
       "2  180000.0         2          770     1.0         0.0          3   \n",
       "3  604000.0         4         1960     1.0         0.0          5   \n",
       "4  510000.0         3         1680     1.0         0.0          3   \n",
       "\n",
       "   sqft_basement  yr_built  yr_renovated      lat     long  sqft_lot15  \n",
       "0              0  7.578145           0.0  47.5112 -122.257        5650  \n",
       "1            400  7.576097        1991.0  47.7210 -122.319        7639  \n",
       "2              0  7.566828           0.0  47.7379 -122.233        8062  \n",
       "3            910  7.583248           0.0  47.5208 -122.393        5000  \n",
       "4              0  7.594381           0.0  47.6168 -122.045        7503  "
      ]
     },
     "execution_count": 73,
     "metadata": {},
     "output_type": "execute_result"
    }
   ],
   "source": [
    "df.head()"
   ]
  },
  {
   "cell_type": "markdown",
   "id": "a1577095",
   "metadata": {},
   "source": [
    "### Mean absolute error regression loss."
   ]
  },
  {
   "cell_type": "code",
   "execution_count": 74,
   "id": "80033073",
   "metadata": {},
   "outputs": [
    {
     "data": {
      "text/plain": [
       "136854.31034936104"
      ]
     },
     "execution_count": 74,
     "metadata": {},
     "output_type": "execute_result"
    }
   ],
   "source": [
    "# Mean absolute error regression loss.\n",
    "mean_absolute_error(y_test, predictions)"
   ]
  },
  {
   "cell_type": "markdown",
   "id": "120cd1b5",
   "metadata": {},
   "source": [
    "# Additional Assessments and Refinement"
   ]
  },
  {
   "cell_type": "markdown",
   "id": "7948d475",
   "metadata": {},
   "source": [
    "## Checking for variance factor"
   ]
  },
  {
   "cell_type": "code",
   "execution_count": 75,
   "id": "46a48df0",
   "metadata": {},
   "outputs": [
    {
     "data": {
      "text/plain": [
       "[('bedrooms', 23.67058100632562),\n",
       " ('sqft_living', 15.702988057558194),\n",
       " ('floors', 13.8238866576625),\n",
       " ('waterfront', 1.0368024387338126),\n",
       " ('condition', 33.32896709443981),\n",
       " ('sqft_basement', 2.3929139359159053),\n",
       " ('yr_built', 217949.6222080384),\n",
       " ('yr_renovated', 1.1091528733679479),\n",
       " ('lat', 116177.48962681426),\n",
       " ('long', 314517.33445671404),\n",
       " ('sqft_lot15', 1.326312912494951)]"
      ]
     },
     "execution_count": 75,
     "metadata": {},
     "output_type": "execute_result"
    }
   ],
   "source": [
    "X = df[x_cols]\n",
    "vif = [variance_inflation_factor(X.values, i) for i in range(X.shape[1])]\n",
    "list(zip(x_cols, vif))"
   ]
  },
  {
   "cell_type": "markdown",
   "id": "24d0d0a9",
   "metadata": {},
   "source": [
    "## Investigating Linearity"
   ]
  },
  {
   "cell_type": "code",
   "execution_count": 76,
   "id": "2d0f4640",
   "metadata": {},
   "outputs": [
    {
     "data": {
      "image/png": "[encoded data removed]",
      "text/plain": [
       "<Figure size 432x288 with 1 Axes>"
      ]
     },
     "metadata": {
      "needs_background": "light"
     },
     "output_type": "display_data"
    }
   ],
   "source": [
    "preds = model.predict(X)\n",
    "fig, ax = plt.subplots()\n",
    "\n",
    "perfect_line = np.arange(y.min().min(), y.max().max())\n",
    "ax.plot(perfect_line, linestyle=\"--\", color=\"orange\", label=\"Perfect Fit\")\n",
    "ax.scatter(y, preds, alpha=0.5)\n",
    "ax.set_xlabel(\"Actual Price\")\n",
    "ax.set_ylabel(\"Predicted Price\")\n",
    "ax.legend();"
   ]
  },
  {
   "cell_type": "markdown",
   "id": "f5062d07",
   "metadata": {},
   "source": [
    "## Investigating Normality"
   ]
  },
  {
   "cell_type": "code",
   "execution_count": 77,
   "id": "b45c459e",
   "metadata": {},
   "outputs": [
    {
     "data": {
      "image/png": "[encoded data removed]",
      "text/plain": [
       "<Figure size 432x288 with 1 Axes>"
      ]
     },
     "metadata": {
      "needs_background": "light"
     },
     "output_type": "display_data"
    }
   ],
   "source": [
    "residuals = (y - preds)\n",
    "sm.graphics.qqplot(residuals, dist=stats.norm, line='45', fit=True);"
   ]
  },
  {
   "cell_type": "markdown",
   "id": "7931cda4",
   "metadata": {},
   "source": [
    "## Investigating Multicollinearity (Independence Assumption)"
   ]
  },
  {
   "cell_type": "code",
   "execution_count": 78,
   "id": "08b8c276",
   "metadata": {},
   "outputs": [
    {
     "data": {
      "text/plain": [
       "bedrooms             23.670581\n",
       "sqft_living          15.702988\n",
       "floors               13.823887\n",
       "waterfront            1.036802\n",
       "condition            33.328967\n",
       "sqft_basement         2.392914\n",
       "yr_built         217949.622208\n",
       "yr_renovated          1.109153\n",
       "lat              116177.489627\n",
       "long             314517.334457\n",
       "sqft_lot15            1.326313\n",
       "Name: Variance Inflation Factor, dtype: float64"
      ]
     },
     "execution_count": 78,
     "metadata": {},
     "output_type": "execute_result"
    }
   ],
   "source": [
    "vif = [variance_inflation_factor(X.values, i) for i in range(X.shape[1])]\n",
    "pd.Series(vif, index=X.columns, name=\"Variance Inflation Factor\")"
   ]
  },
  {
   "cell_type": "markdown",
   "id": "d20af352",
   "metadata": {},
   "source": [
    "## Investigating Homoscedasticity"
   ]
  },
  {
   "cell_type": "code",
   "execution_count": 79,
   "id": "3371a882",
   "metadata": {
    "scrolled": true
   },
   "outputs": [
    {
     "data": {
      "image/png": "[encoded data removed]",
      "text/plain": [
       "<Figure size 432x288 with 1 Axes>"
      ]
     },
     "metadata": {
      "needs_background": "light"
     },
     "output_type": "display_data"
    }
   ],
   "source": [
    "fig, ax = plt.subplots()\n",
    "\n",
    "ax.scatter(preds, residuals, alpha=0.5)\n",
    "ax.plot(preds, [0 for i in range(len(X))])\n",
    "ax.set_xlabel(\"Predicted Value\")\n",
    "ax.set_ylabel(\"Actual - Predicted Value\");"
   ]
  },
  {
   "cell_type": "markdown",
   "id": "095284a2",
   "metadata": {},
   "source": [
    "## Investigating 4 features after drop 'price' outlier"
   ]
  },
  {
   "cell_type": "code",
   "execution_count": 80,
   "id": "fe420dfd",
   "metadata": {},
   "outputs": [
    {
     "data": {
      "text/plain": [
       "<AxesSubplot:xlabel='price'>"
      ]
     },
     "execution_count": 80,
     "metadata": {},
     "output_type": "execute_result"
    },
    {
     "data": {
      "image/png": "[encoded data removed]",
      "text/plain": [
       "<Figure size 432x288 with 1 Axes>"
      ]
     },
     "metadata": {
      "needs_background": "light"
     },
     "output_type": "display_data"
    }
   ],
   "source": [
    "sns.boxplot(df['price'])"
   ]
  },
  {
   "cell_type": "code",
   "execution_count": 81,
   "id": "bca950a6",
   "metadata": {},
   "outputs": [
    {
     "data": {
      "text/plain": [
       "<AxesSubplot:xlabel='price', ylabel='Density'>"
      ]
     },
     "execution_count": 81,
     "metadata": {},
     "output_type": "execute_result"
    },
    {
     "data": {
      "image/png": "[encoded data removed]",
      "text/plain": [
       "<Figure size 432x288 with 1 Axes>"
      ]
     },
     "metadata": {
      "needs_background": "light"
     },
     "output_type": "display_data"
    }
   ],
   "source": [
    "sns.distplot(df['price'])"
   ]
  },
  {
   "cell_type": "code",
   "execution_count": 82,
   "id": "892fb7d9",
   "metadata": {},
   "outputs": [
    {
     "data": {
      "text/plain": [
       "1960699.9999999972"
      ]
     },
     "execution_count": 82,
     "metadata": {},
     "output_type": "execute_result"
    }
   ],
   "source": [
    "upper_limit = df['price'].quantile(0.99)\n",
    "upper_limit"
   ]
  },
  {
   "cell_type": "code",
   "execution_count": 83,
   "id": "85287e30",
   "metadata": {},
   "outputs": [
    {
     "data": {
      "text/plain": [
       "154000.0"
      ]
     },
     "execution_count": 83,
     "metadata": {},
     "output_type": "execute_result"
    }
   ],
   "source": [
    "lower_limit = df['price'].quantile(0.01)\n",
    "lower_limit"
   ]
  },
  {
   "cell_type": "code",
   "execution_count": 84,
   "id": "f8e0b751",
   "metadata": {},
   "outputs": [
    {
     "data": {
      "text/plain": [
       "<AxesSubplot:xlabel='price'>"
      ]
     },
     "execution_count": 84,
     "metadata": {},
     "output_type": "execute_result"
    },
    {
     "data": {
      "image/png": "[encoded data removed]",
      "text/plain": [
       "<Figure size 432x288 with 1 Axes>"
      ]
     },
     "metadata": {
      "needs_background": "light"
     },
     "output_type": "display_data"
    }
   ],
   "source": [
    "sns.boxplot(df['price'])"
   ]
  },
  {
   "cell_type": "code",
   "execution_count": 85,
   "id": "2c3adb01",
   "metadata": {},
   "outputs": [],
   "source": [
    "# lower_line = df['price'].quantile(0.25)\n",
    "# upper_line = df['price'].quantile(0.75)\n",
    "# IQR = upper_line - lower_line    #IQR is interquartile range. \n",
    "\n",
    "# filter = (df['price'] >= lower_line - 1.5 * IQR) & (df['price'] <= upper_line + 1.5 *IQR)\n",
    "# df.loc[filter]  \n",
    "# new_df1 = df.loc[filter] \n",
    "# sns.boxplot(new_df1['price'])"
   ]
  },
  {
   "cell_type": "code",
   "execution_count": 86,
   "id": "ecb7d304",
   "metadata": {},
   "outputs": [],
   "source": [
    "new_df = df[(df['price'] <= 1960000.0) & (df['price'] >= 154000.0)]"
   ]
  },
  {
   "cell_type": "code",
   "execution_count": 87,
   "id": "5519d4d6",
   "metadata": {},
   "outputs": [
    {
     "data": {
      "text/plain": [
       "<AxesSubplot:xlabel='price', ylabel='Density'>"
      ]
     },
     "execution_count": 87,
     "metadata": {},
     "output_type": "execute_result"
    },
    {
     "data": {
      "image/png": "[encoded data removed]",
      "text/plain": [
       "<Figure size 432x288 with 1 Axes>"
      ]
     },
     "metadata": {
      "needs_background": "light"
     },
     "output_type": "display_data"
    }
   ],
   "source": [
    "sns.distplot(new_df['price'])"
   ]
  },
  {
   "cell_type": "code",
   "execution_count": 88,
   "id": "804379a3",
   "metadata": {},
   "outputs": [
    {
     "data": {
      "text/plain": [
       "<AxesSubplot:xlabel='price'>"
      ]
     },
     "execution_count": 88,
     "metadata": {},
     "output_type": "execute_result"
    },
    {
     "data": {
      "image/png": "[encoded data removed]",
      "text/plain": [
       "<Figure size 432x288 with 1 Axes>"
      ]
     },
     "metadata": {
      "needs_background": "light"
     },
     "output_type": "display_data"
    }
   ],
   "source": [
    "sns.boxplot(new_df['price'])"
   ]
  },
  {
   "cell_type": "markdown",
   "id": "81e80e77",
   "metadata": {},
   "source": [
    "### Linearity"
   ]
  },
  {
   "cell_type": "code",
   "execution_count": 89,
   "id": "b95957ef",
   "metadata": {},
   "outputs": [
    {
     "data": {
      "image/png": "[encoded data removed]",
      "text/plain": [
       "<Figure size 432x288 with 1 Axes>"
      ]
     },
     "metadata": {
      "needs_background": "light"
     },
     "output_type": "display_data"
    }
   ],
   "source": [
    "y = new_df[['price']]\n",
    "X = new_df.drop(['price'], axis=1)\n",
    "\n",
    "preds = model.predict(X)\n",
    "fig, ax = plt.subplots()\n",
    "\n",
    "perfect_line = np.arange(y.min().min(), y.max().max())\n",
    "ax.plot(perfect_line, linestyle=\"--\", color=\"orange\", label=\"Perfect Fit\")\n",
    "ax.scatter(y, preds, alpha=0.5)\n",
    "ax.set_xlabel(\"Actual Price\")\n",
    "ax.set_ylabel(\"Predicted Price\")\n",
    "ax.legend();"
   ]
  },
  {
   "cell_type": "markdown",
   "id": "1603b0c9",
   "metadata": {},
   "source": [
    "### Normality"
   ]
  },
  {
   "cell_type": "code",
   "execution_count": 90,
   "id": "d7748cf3",
   "metadata": {},
   "outputs": [
    {
     "data": {
      "image/png": "[encoded data removed]",
      "text/plain": [
       "<Figure size 432x288 with 1 Axes>"
      ]
     },
     "metadata": {
      "needs_background": "light"
     },
     "output_type": "display_data"
    }
   ],
   "source": [
    "residuals = (y - preds)\n",
    "sm.graphics.qqplot(residuals, dist=stats.norm, line='45', fit=True);"
   ]
  },
  {
   "cell_type": "markdown",
   "id": "558a5793",
   "metadata": {},
   "source": [
    "### Multicollinearity (Independence Assumption)"
   ]
  },
  {
   "cell_type": "code",
   "execution_count": 91,
   "id": "20aa6ac1",
   "metadata": {},
   "outputs": [
    {
     "data": {
      "text/plain": [
       "bedrooms             24.086933\n",
       "sqft_living          16.841997\n",
       "floors               13.852622\n",
       "waterfront            1.020582\n",
       "condition            33.767781\n",
       "sqft_basement         2.349524\n",
       "yr_built         221357.190616\n",
       "yr_renovated          1.107594\n",
       "lat              115787.612432\n",
       "long             319256.986811\n",
       "sqft_lot15            1.327702\n",
       "Name: Variance Inflation Factor, dtype: float64"
      ]
     },
     "execution_count": 91,
     "metadata": {},
     "output_type": "execute_result"
    }
   ],
   "source": [
    "vif = [variance_inflation_factor(X.values, i) for i in range(X.shape[1])]\n",
    "pd.Series(vif, index=X.columns, name=\"Variance Inflation Factor\")"
   ]
  },
  {
   "cell_type": "markdown",
   "id": "2b1c48b6",
   "metadata": {},
   "source": [
    "### Homoscedasticity"
   ]
  },
  {
   "cell_type": "code",
   "execution_count": 92,
   "id": "46de4a88",
   "metadata": {},
   "outputs": [
    {
     "data": {
      "image/png": "[encoded data removed]",
      "text/plain": [
       "<Figure size 432x288 with 1 Axes>"
      ]
     },
     "metadata": {
      "needs_background": "light"
     },
     "output_type": "display_data"
    }
   ],
   "source": [
    "fig, ax = plt.subplots()\n",
    "\n",
    "ax.scatter(preds, residuals, alpha=0.5)\n",
    "ax.plot(preds, [0 for i in range(len(X))])\n",
    "ax.set_xlabel(\"Predicted Value\")\n",
    "ax.set_ylabel(\"Actual - Predicted Value\");"
   ]
  },
  {
   "cell_type": "markdown",
   "id": "601b604b",
   "metadata": {},
   "source": [
    "# Questions"
   ]
  },
  {
   "cell_type": "markdown",
   "id": "97e3a439",
   "metadata": {},
   "source": [
    "## Q1 what features should future owner consider most? "
   ]
  },
  {
   "cell_type": "code",
   "execution_count": 93,
   "id": "14470750",
   "metadata": {},
   "outputs": [
    {
     "data": {
      "text/html": [
       "<table class=\"simpletable\">\n",
       "<caption>OLS Regression Results</caption>\n",
       "<tr>\n",
       "  <th>Dep. Variable:</th>          <td>price</td>      <th>  R-squared:         </th>  <td>   0.644</td>  \n",
       "</tr>\n",
       "<tr>\n",
       "  <th>Model:</th>                   <td>OLS</td>       <th>  Adj. R-squared:    </th>  <td>   0.644</td>  \n",
       "</tr>\n",
       "<tr>\n",
       "  <th>Method:</th>             <td>Least Squares</td>  <th>  F-statistic:       </th>  <td>   2845.</td>  \n",
       "</tr>\n",
       "<tr>\n",
       "  <th>Date:</th>             <td>Fri, 12 Nov 2021</td> <th>  Prob (F-statistic):</th>   <td>  0.00</td>   \n",
       "</tr>\n",
       "<tr>\n",
       "  <th>Time:</th>                 <td>18:18:43</td>     <th>  Log-Likelihood:    </th> <td>-2.3713e+05</td>\n",
       "</tr>\n",
       "<tr>\n",
       "  <th>No. Observations:</th>      <td> 17275</td>      <th>  AIC:               </th>  <td>4.743e+05</td> \n",
       "</tr>\n",
       "<tr>\n",
       "  <th>Df Residuals:</th>          <td> 17263</td>      <th>  BIC:               </th>  <td>4.744e+05</td> \n",
       "</tr>\n",
       "<tr>\n",
       "  <th>Df Model:</th>              <td>    11</td>      <th>                     </th>      <td> </td>     \n",
       "</tr>\n",
       "<tr>\n",
       "  <th>Covariance Type:</th>      <td>nonrobust</td>    <th>                     </th>      <td> </td>     \n",
       "</tr>\n",
       "</table>\n",
       "<table class=\"simpletable\">\n",
       "<tr>\n",
       "        <td></td>           <th>coef</th>     <th>std err</th>      <th>t</th>      <th>P>|t|</th>  <th>[0.025</th>    <th>0.975]</th>  \n",
       "</tr>\n",
       "<tr>\n",
       "  <th>Intercept</th>     <td>-3.214e+07</td> <td> 2.52e+06</td> <td>  -12.773</td> <td> 0.000</td> <td>-3.71e+07</td> <td>-2.72e+07</td>\n",
       "</tr>\n",
       "<tr>\n",
       "  <th>bedrooms</th>      <td>-5.522e+04</td> <td> 2354.206</td> <td>  -23.457</td> <td> 0.000</td> <td>-5.98e+04</td> <td>-5.06e+04</td>\n",
       "</tr>\n",
       "<tr>\n",
       "  <th>sqft_living</th>   <td>  329.2533</td> <td>    2.932</td> <td>  112.306</td> <td> 0.000</td> <td>  323.507</td> <td>  335.000</td>\n",
       "</tr>\n",
       "<tr>\n",
       "  <th>floors</th>        <td> 3.028e+04</td> <td> 4165.112</td> <td>    7.270</td> <td> 0.000</td> <td> 2.21e+04</td> <td> 3.84e+04</td>\n",
       "</tr>\n",
       "<tr>\n",
       "  <th>waterfront</th>    <td> 8.269e+05</td> <td> 2.09e+04</td> <td>   39.636</td> <td> 0.000</td> <td> 7.86e+05</td> <td> 8.68e+05</td>\n",
       "</tr>\n",
       "<tr>\n",
       "  <th>condition</th>     <td> 3.453e+04</td> <td> 2861.612</td> <td>   12.066</td> <td> 0.000</td> <td> 2.89e+04</td> <td> 4.01e+04</td>\n",
       "</tr>\n",
       "<tr>\n",
       "  <th>sqft_basement</th> <td>  -40.5016</td> <td>    5.087</td> <td>   -7.961</td> <td> 0.000</td> <td>  -50.473</td> <td>  -30.530</td>\n",
       "</tr>\n",
       "<tr>\n",
       "  <th>yr_built</th>      <td>-2.747e+06</td> <td> 1.56e+05</td> <td>  -17.603</td> <td> 0.000</td> <td>-3.05e+06</td> <td>-2.44e+06</td>\n",
       "</tr>\n",
       "<tr>\n",
       "  <th>yr_renovated</th>  <td>   40.9721</td> <td>    4.826</td> <td>    8.489</td> <td> 0.000</td> <td>   31.512</td> <td>   50.432</td>\n",
       "</tr>\n",
       "<tr>\n",
       "  <th>lat</th>           <td> 6.422e+05</td> <td> 1.27e+04</td> <td>   50.692</td> <td> 0.000</td> <td> 6.17e+05</td> <td> 6.67e+05</td>\n",
       "</tr>\n",
       "<tr>\n",
       "  <th>long</th>          <td>-1.827e+05</td> <td> 1.42e+04</td> <td>  -12.890</td> <td> 0.000</td> <td> -2.1e+05</td> <td>-1.55e+05</td>\n",
       "</tr>\n",
       "<tr>\n",
       "  <th>sqft_lot15</th>    <td>   -0.2486</td> <td>    0.066</td> <td>   -3.755</td> <td> 0.000</td> <td>   -0.378</td> <td>   -0.119</td>\n",
       "</tr>\n",
       "</table>\n",
       "<table class=\"simpletable\">\n",
       "<tr>\n",
       "  <th>Omnibus:</th>       <td>12192.702</td> <th>  Durbin-Watson:     </th>  <td>   1.993</td> \n",
       "</tr>\n",
       "<tr>\n",
       "  <th>Prob(Omnibus):</th>  <td> 0.000</td>   <th>  Jarque-Bera (JB):  </th> <td>607926.542</td>\n",
       "</tr>\n",
       "<tr>\n",
       "  <th>Skew:</th>           <td> 2.838</td>   <th>  Prob(JB):          </th>  <td>    0.00</td> \n",
       "</tr>\n",
       "<tr>\n",
       "  <th>Kurtosis:</th>       <td>31.502</td>   <th>  Cond. No.          </th>  <td>4.46e+07</td> \n",
       "</tr>\n",
       "</table><br/><br/>Notes:<br/>[1] Standard Errors assume that the covariance matrix of the errors is correctly specified.<br/>[2] The condition number is large, 4.46e+07. This might indicate that there are<br/>strong multicollinearity or other numerical problems."
      ],
      "text/plain": [
       "<class 'statsmodels.iolib.summary.Summary'>\n",
       "\"\"\"\n",
       "                            OLS Regression Results                            \n",
       "==============================================================================\n",
       "Dep. Variable:                  price   R-squared:                       0.644\n",
       "Model:                            OLS   Adj. R-squared:                  0.644\n",
       "Method:                 Least Squares   F-statistic:                     2845.\n",
       "Date:                Fri, 12 Nov 2021   Prob (F-statistic):               0.00\n",
       "Time:                        18:18:43   Log-Likelihood:            -2.3713e+05\n",
       "No. Observations:               17275   AIC:                         4.743e+05\n",
       "Df Residuals:                   17263   BIC:                         4.744e+05\n",
       "Df Model:                          11                                         \n",
       "Covariance Type:            nonrobust                                         \n",
       "=================================================================================\n",
       "                    coef    std err          t      P>|t|      [0.025      0.975]\n",
       "---------------------------------------------------------------------------------\n",
       "Intercept     -3.214e+07   2.52e+06    -12.773      0.000   -3.71e+07   -2.72e+07\n",
       "bedrooms      -5.522e+04   2354.206    -23.457      0.000   -5.98e+04   -5.06e+04\n",
       "sqft_living     329.2533      2.932    112.306      0.000     323.507     335.000\n",
       "floors         3.028e+04   4165.112      7.270      0.000    2.21e+04    3.84e+04\n",
       "waterfront     8.269e+05   2.09e+04     39.636      0.000    7.86e+05    8.68e+05\n",
       "condition      3.453e+04   2861.612     12.066      0.000    2.89e+04    4.01e+04\n",
       "sqft_basement   -40.5016      5.087     -7.961      0.000     -50.473     -30.530\n",
       "yr_built      -2.747e+06   1.56e+05    -17.603      0.000   -3.05e+06   -2.44e+06\n",
       "yr_renovated     40.9721      4.826      8.489      0.000      31.512      50.432\n",
       "lat            6.422e+05   1.27e+04     50.692      0.000    6.17e+05    6.67e+05\n",
       "long          -1.827e+05   1.42e+04    -12.890      0.000    -2.1e+05   -1.55e+05\n",
       "sqft_lot15       -0.2486      0.066     -3.755      0.000      -0.378      -0.119\n",
       "==============================================================================\n",
       "Omnibus:                    12192.702   Durbin-Watson:                   1.993\n",
       "Prob(Omnibus):                  0.000   Jarque-Bera (JB):           607926.542\n",
       "Skew:                           2.838   Prob(JB):                         0.00\n",
       "Kurtosis:                      31.502   Cond. No.                     4.46e+07\n",
       "==============================================================================\n",
       "\n",
       "Notes:\n",
       "[1] Standard Errors assume that the covariance matrix of the errors is correctly specified.\n",
       "[2] The condition number is large, 4.46e+07. This might indicate that there are\n",
       "strong multicollinearity or other numerical problems.\n",
       "\"\"\""
      ]
     },
     "execution_count": 93,
     "metadata": {},
     "output_type": "execute_result"
    }
   ],
   "source": [
    "outcome = 'price'\n",
    "x_cols = ['bedrooms', 'sqft_living', 'floors', 'waterfront', 'condition', 'sqft_basement', 'yr_built', 'yr_renovated', 'lat', 'long', 'sqft_lot15']\n",
    "predictors = '+'.join(x_cols)\n",
    "formula = outcome + '~' + predictors\n",
    "model = ols(formula=formula, data=train).fit()\n",
    "model.summary()"
   ]
  },
  {
   "cell_type": "markdown",
   "id": "46e1832d",
   "metadata": {},
   "source": [
    "According to the summary, if owner want to invest a new house. Bigger living room, waterfront, and north area of King County should be considered. Those three are the most important features when market valuate the property.  "
   ]
  },
  {
   "cell_type": "markdown",
   "id": "c2d28f70",
   "metadata": {},
   "source": [
    "## Q2 what should owner don't care too much? "
   ]
  },
  {
   "cell_type": "code",
   "execution_count": 94,
   "id": "afc41cb4",
   "metadata": {},
   "outputs": [],
   "source": [
    "df_year_long_bedrooms = df[['price', 'bedrooms', 'yr_built', 'long']]"
   ]
  },
  {
   "cell_type": "code",
   "execution_count": 95,
   "id": "7a5e023a",
   "metadata": {},
   "outputs": [
    {
     "data": {
      "text/html": [
       "<table class=\"simpletable\">\n",
       "<caption>OLS Regression Results</caption>\n",
       "<tr>\n",
       "  <th>Dep. Variable:</th>          <td>price</td>      <th>  R-squared:         </th>  <td>   0.644</td>  \n",
       "</tr>\n",
       "<tr>\n",
       "  <th>Model:</th>                   <td>OLS</td>       <th>  Adj. R-squared:    </th>  <td>   0.644</td>  \n",
       "</tr>\n",
       "<tr>\n",
       "  <th>Method:</th>             <td>Least Squares</td>  <th>  F-statistic:       </th>  <td>   2845.</td>  \n",
       "</tr>\n",
       "<tr>\n",
       "  <th>Date:</th>             <td>Fri, 12 Nov 2021</td> <th>  Prob (F-statistic):</th>   <td>  0.00</td>   \n",
       "</tr>\n",
       "<tr>\n",
       "  <th>Time:</th>                 <td>18:18:43</td>     <th>  Log-Likelihood:    </th> <td>-2.3713e+05</td>\n",
       "</tr>\n",
       "<tr>\n",
       "  <th>No. Observations:</th>      <td> 17275</td>      <th>  AIC:               </th>  <td>4.743e+05</td> \n",
       "</tr>\n",
       "<tr>\n",
       "  <th>Df Residuals:</th>          <td> 17263</td>      <th>  BIC:               </th>  <td>4.744e+05</td> \n",
       "</tr>\n",
       "<tr>\n",
       "  <th>Df Model:</th>              <td>    11</td>      <th>                     </th>      <td> </td>     \n",
       "</tr>\n",
       "<tr>\n",
       "  <th>Covariance Type:</th>      <td>nonrobust</td>    <th>                     </th>      <td> </td>     \n",
       "</tr>\n",
       "</table>\n",
       "<table class=\"simpletable\">\n",
       "<tr>\n",
       "        <td></td>           <th>coef</th>     <th>std err</th>      <th>t</th>      <th>P>|t|</th>  <th>[0.025</th>    <th>0.975]</th>  \n",
       "</tr>\n",
       "<tr>\n",
       "  <th>Intercept</th>     <td>-3.214e+07</td> <td> 2.52e+06</td> <td>  -12.773</td> <td> 0.000</td> <td>-3.71e+07</td> <td>-2.72e+07</td>\n",
       "</tr>\n",
       "<tr>\n",
       "  <th>bedrooms</th>      <td>-5.522e+04</td> <td> 2354.206</td> <td>  -23.457</td> <td> 0.000</td> <td>-5.98e+04</td> <td>-5.06e+04</td>\n",
       "</tr>\n",
       "<tr>\n",
       "  <th>sqft_living</th>   <td>  329.2533</td> <td>    2.932</td> <td>  112.306</td> <td> 0.000</td> <td>  323.507</td> <td>  335.000</td>\n",
       "</tr>\n",
       "<tr>\n",
       "  <th>floors</th>        <td> 3.028e+04</td> <td> 4165.112</td> <td>    7.270</td> <td> 0.000</td> <td> 2.21e+04</td> <td> 3.84e+04</td>\n",
       "</tr>\n",
       "<tr>\n",
       "  <th>waterfront</th>    <td> 8.269e+05</td> <td> 2.09e+04</td> <td>   39.636</td> <td> 0.000</td> <td> 7.86e+05</td> <td> 8.68e+05</td>\n",
       "</tr>\n",
       "<tr>\n",
       "  <th>condition</th>     <td> 3.453e+04</td> <td> 2861.612</td> <td>   12.066</td> <td> 0.000</td> <td> 2.89e+04</td> <td> 4.01e+04</td>\n",
       "</tr>\n",
       "<tr>\n",
       "  <th>sqft_basement</th> <td>  -40.5016</td> <td>    5.087</td> <td>   -7.961</td> <td> 0.000</td> <td>  -50.473</td> <td>  -30.530</td>\n",
       "</tr>\n",
       "<tr>\n",
       "  <th>yr_built</th>      <td>-2.747e+06</td> <td> 1.56e+05</td> <td>  -17.603</td> <td> 0.000</td> <td>-3.05e+06</td> <td>-2.44e+06</td>\n",
       "</tr>\n",
       "<tr>\n",
       "  <th>yr_renovated</th>  <td>   40.9721</td> <td>    4.826</td> <td>    8.489</td> <td> 0.000</td> <td>   31.512</td> <td>   50.432</td>\n",
       "</tr>\n",
       "<tr>\n",
       "  <th>lat</th>           <td> 6.422e+05</td> <td> 1.27e+04</td> <td>   50.692</td> <td> 0.000</td> <td> 6.17e+05</td> <td> 6.67e+05</td>\n",
       "</tr>\n",
       "<tr>\n",
       "  <th>long</th>          <td>-1.827e+05</td> <td> 1.42e+04</td> <td>  -12.890</td> <td> 0.000</td> <td> -2.1e+05</td> <td>-1.55e+05</td>\n",
       "</tr>\n",
       "<tr>\n",
       "  <th>sqft_lot15</th>    <td>   -0.2486</td> <td>    0.066</td> <td>   -3.755</td> <td> 0.000</td> <td>   -0.378</td> <td>   -0.119</td>\n",
       "</tr>\n",
       "</table>\n",
       "<table class=\"simpletable\">\n",
       "<tr>\n",
       "  <th>Omnibus:</th>       <td>12192.702</td> <th>  Durbin-Watson:     </th>  <td>   1.993</td> \n",
       "</tr>\n",
       "<tr>\n",
       "  <th>Prob(Omnibus):</th>  <td> 0.000</td>   <th>  Jarque-Bera (JB):  </th> <td>607926.542</td>\n",
       "</tr>\n",
       "<tr>\n",
       "  <th>Skew:</th>           <td> 2.838</td>   <th>  Prob(JB):          </th>  <td>    0.00</td> \n",
       "</tr>\n",
       "<tr>\n",
       "  <th>Kurtosis:</th>       <td>31.502</td>   <th>  Cond. No.          </th>  <td>4.46e+07</td> \n",
       "</tr>\n",
       "</table><br/><br/>Notes:<br/>[1] Standard Errors assume that the covariance matrix of the errors is correctly specified.<br/>[2] The condition number is large, 4.46e+07. This might indicate that there are<br/>strong multicollinearity or other numerical problems."
      ],
      "text/plain": [
       "<class 'statsmodels.iolib.summary.Summary'>\n",
       "\"\"\"\n",
       "                            OLS Regression Results                            \n",
       "==============================================================================\n",
       "Dep. Variable:                  price   R-squared:                       0.644\n",
       "Model:                            OLS   Adj. R-squared:                  0.644\n",
       "Method:                 Least Squares   F-statistic:                     2845.\n",
       "Date:                Fri, 12 Nov 2021   Prob (F-statistic):               0.00\n",
       "Time:                        18:18:43   Log-Likelihood:            -2.3713e+05\n",
       "No. Observations:               17275   AIC:                         4.743e+05\n",
       "Df Residuals:                   17263   BIC:                         4.744e+05\n",
       "Df Model:                          11                                         \n",
       "Covariance Type:            nonrobust                                         \n",
       "=================================================================================\n",
       "                    coef    std err          t      P>|t|      [0.025      0.975]\n",
       "---------------------------------------------------------------------------------\n",
       "Intercept     -3.214e+07   2.52e+06    -12.773      0.000   -3.71e+07   -2.72e+07\n",
       "bedrooms      -5.522e+04   2354.206    -23.457      0.000   -5.98e+04   -5.06e+04\n",
       "sqft_living     329.2533      2.932    112.306      0.000     323.507     335.000\n",
       "floors         3.028e+04   4165.112      7.270      0.000    2.21e+04    3.84e+04\n",
       "waterfront     8.269e+05   2.09e+04     39.636      0.000    7.86e+05    8.68e+05\n",
       "condition      3.453e+04   2861.612     12.066      0.000    2.89e+04    4.01e+04\n",
       "sqft_basement   -40.5016      5.087     -7.961      0.000     -50.473     -30.530\n",
       "yr_built      -2.747e+06   1.56e+05    -17.603      0.000   -3.05e+06   -2.44e+06\n",
       "yr_renovated     40.9721      4.826      8.489      0.000      31.512      50.432\n",
       "lat            6.422e+05   1.27e+04     50.692      0.000    6.17e+05    6.67e+05\n",
       "long          -1.827e+05   1.42e+04    -12.890      0.000    -2.1e+05   -1.55e+05\n",
       "sqft_lot15       -0.2486      0.066     -3.755      0.000      -0.378      -0.119\n",
       "==============================================================================\n",
       "Omnibus:                    12192.702   Durbin-Watson:                   1.993\n",
       "Prob(Omnibus):                  0.000   Jarque-Bera (JB):           607926.542\n",
       "Skew:                           2.838   Prob(JB):                         0.00\n",
       "Kurtosis:                      31.502   Cond. No.                     4.46e+07\n",
       "==============================================================================\n",
       "\n",
       "Notes:\n",
       "[1] Standard Errors assume that the covariance matrix of the errors is correctly specified.\n",
       "[2] The condition number is large, 4.46e+07. This might indicate that there are\n",
       "strong multicollinearity or other numerical problems.\n",
       "\"\"\""
      ]
     },
     "execution_count": 95,
     "metadata": {},
     "output_type": "execute_result"
    }
   ],
   "source": [
    "model.summary()"
   ]
  },
  {
   "cell_type": "markdown",
   "id": "94683656",
   "metadata": {},
   "source": [
    "According to the summary and seatle map, King county downtown is at west side, which means more close to downtown and US west coast is more experience. Meanwhile, older houses are usually more experience. \n",
    "\n",
    "According to the model.summary(), bedrooms, square feet of basement and year of build are the top 3 negative features. ​\n",
    "\n",
    "Reason：​\n",
    "\n",
    "1. House with too many bedrooms are not as hot as house with bedrooms less than 5. ​\n",
    "\n",
    "2. Seattle is a place less likely to snow but rich of rain. Basement is damp and dark. Besides, basement like such contains more Radon gas, and Radon is a naturally-occurring radioactive gas that can cause lung cancer. ​\n",
    "\n",
    "3. New build house are usually far from waterfront, downtown, coastline and school, those area usually been occupied with older houses. "
   ]
  },
  {
   "cell_type": "markdown",
   "id": "e5ec658d",
   "metadata": {},
   "source": [
    "## Q3 Should owner buy a house with mores room than he/she actually needs?"
   ]
  },
  {
   "cell_type": "code",
   "execution_count": 96,
   "id": "f8482a79",
   "metadata": {},
   "outputs": [
    {
     "data": {
      "image/png": "[encoded data removed]",
      "text/plain": [
       "<Figure size 1152x216 with 2 Axes>"
      ]
     },
     "metadata": {
      "needs_background": "light"
     },
     "output_type": "display_data"
    }
   ],
   "source": [
    "fig, axes = plt.subplots(nrows=1, ncols=2, figsize=(16,3))\n",
    "\n",
    "for xcol, ax in zip(['bedrooms', 'sqft_living'], axes):\n",
    "    df.plot(kind='scatter', x=xcol, y='price', ax=ax, alpha=0.2, color='b', logy=True)"
   ]
  },
  {
   "cell_type": "markdown",
   "id": "67fbd45c",
   "metadata": {},
   "source": [
    "From the histogram and model summary, we conclude that less bedrooms, more living room sqft and more lot sqft would increase the price. If actual bedrooms need is more than 5, more bedrooms usually get a less price house. We speculate this may because those big house are less popular and hot than bedrooms number less than 5. "
   ]
  },
  {
   "cell_type": "markdown",
   "id": "fc2be19e",
   "metadata": {},
   "source": [
    "# Conclusion"
   ]
  },
  {
   "cell_type": "markdown",
   "id": "99718162",
   "metadata": {},
   "source": [
    "After analysis, my team believe this is the best time getting into valuable house.\n",
    "\n",
    "We would suggest：\n",
    "\n",
    "1. Bigger living room, waterfront, and north area of King County should be considered.\n",
    "\n",
    "2. For King county, downtown and US west coast is more experience.\n",
    "\n",
    "3. Bedrooms no more than 5 are more popular and hot to trade."
   ]
  },
  {
   "cell_type": "markdown",
   "id": "7ab2e6fe",
   "metadata": {},
   "source": [
    "# Future work"
   ]
  },
  {
   "cell_type": "markdown",
   "id": "9e36a6dd",
   "metadata": {},
   "source": [
    "1. With more time, I would like to look into 'zip' column see if I can find more valuable information.\n",
    "\n",
    "2. For house sale in different months, I want to check if sale price and deal made amount change accordingly. I may need to search for more sales record in different year to get a convincing trend for that. \n",
    "\n",
    "3. There are more features might influence price like world economic  environment, Nasdaq Index, pandemic, etc. I want to merge more features to get a better model for the price prediction. "
   ]
  },
  {
   "cell_type": "code",
   "execution_count": null,
   "id": "49a51d5a",
   "metadata": {},
   "outputs": [],
   "source": []
  }
 ],
 "metadata": {
  "kernelspec": {
   "display_name": "Python 3 (ipykernel)",
   "language": "python",
   "name": "python3"
  },
  "language_info": {
   "codemirror_mode": {
    "name": "ipython",
    "version": 3
   },
   "file_extension": ".py",
   "mimetype": "text/x-python",
   "name": "python",
   "nbconvert_exporter": "python",
   "pygments_lexer": "ipython3",
   "version": "3.9.2"
  },
  "toc": {
   "base_numbering": 1,
   "nav_menu": {},
   "number_sections": true,
   "sideBar": true,
   "skip_h1_title": false,
   "title_cell": "Table of Contents",
   "title_sidebar": "Contents",
   "toc_cell": false,
   "toc_position": {
    "height": "calc(100% - 180px)",
    "left": "10px",
    "top": "150px",
    "width": "165px"
   },
   "toc_section_display": true,
   "toc_window_display": true
  }
 },
 "nbformat": 4,
 "nbformat_minor": 5
}
